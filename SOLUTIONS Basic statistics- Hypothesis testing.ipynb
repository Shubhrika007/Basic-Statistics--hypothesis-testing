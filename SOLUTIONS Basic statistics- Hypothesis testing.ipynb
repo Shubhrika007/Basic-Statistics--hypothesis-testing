{
 "cells": [
  {
   "cell_type": "code",
   "execution_count": 316,
   "id": "3d5d22eb",
   "metadata": {},
   "outputs": [],
   "source": [
    "import numpy as np\n",
    "import pandas as pd\n",
    "import matplotlib.pyplot as plt\n",
    "import seaborn as sns\n",
    "%matplotlib inline\n",
    "import datetime as dt\n",
    "import scipy.stats as stats"
   ]
  },
  {
   "cell_type": "markdown",
   "id": "783e8f51",
   "metadata": {},
   "source": [
    "### Business Problem 1\n",
    "\n",
    "### BACKGROUND:\n",
    "#### The Lending Club is a peer-to-peer lending site where members make loans to each other. The site makes anonymized data on loans and borrowers publicly available. \n",
    "### BUSINESS PROBLEM:\n",
    "#### Using lending club loans data, the team would like to test below hypothesis on how different factors effecing each other (Hint: You may leverage hypothesis testing using statistical tests)\n"
   ]
  },
  {
   "cell_type": "code",
   "execution_count": 573,
   "id": "732d5841",
   "metadata": {},
   "outputs": [],
   "source": [
    "file_path= 'C:/Users/DELL/Desktop/Python case studies/Basic Statistics- Hypothesis Testing'"
   ]
  },
  {
   "cell_type": "code",
   "execution_count": 574,
   "id": "7100f2aa",
   "metadata": {},
   "outputs": [],
   "source": [
    "loan_data= pd.read_csv(file_path+'/LoansData.csv')"
   ]
  },
  {
   "cell_type": "code",
   "execution_count": 575,
   "id": "0931dad0",
   "metadata": {},
   "outputs": [
    {
     "data": {
      "text/html": [
       "<div>\n",
       "<style scoped>\n",
       "    .dataframe tbody tr th:only-of-type {\n",
       "        vertical-align: middle;\n",
       "    }\n",
       "\n",
       "    .dataframe tbody tr th {\n",
       "        vertical-align: top;\n",
       "    }\n",
       "\n",
       "    .dataframe thead th {\n",
       "        text-align: right;\n",
       "    }\n",
       "</style>\n",
       "<table border=\"1\" class=\"dataframe\">\n",
       "  <thead>\n",
       "    <tr style=\"text-align: right;\">\n",
       "      <th></th>\n",
       "      <th>Amount.Requested</th>\n",
       "      <th>Amount.Funded.By.Investors</th>\n",
       "      <th>Interest.Rate</th>\n",
       "      <th>Loan.Length</th>\n",
       "      <th>Loan.Purpose</th>\n",
       "      <th>Debt.To.Income.Ratio</th>\n",
       "      <th>State</th>\n",
       "      <th>Home.Ownership</th>\n",
       "      <th>Monthly.Income</th>\n",
       "      <th>FICO.Range</th>\n",
       "      <th>Open.CREDIT.Lines</th>\n",
       "      <th>Revolving.CREDIT.Balance</th>\n",
       "      <th>Inquiries.in.the.Last.6.Months</th>\n",
       "      <th>Employment.Length</th>\n",
       "    </tr>\n",
       "  </thead>\n",
       "  <tbody>\n",
       "    <tr>\n",
       "      <th>0</th>\n",
       "      <td>20000.0</td>\n",
       "      <td>20000.0</td>\n",
       "      <td>8.90%</td>\n",
       "      <td>36 months</td>\n",
       "      <td>debt_consolidation</td>\n",
       "      <td>14.90%</td>\n",
       "      <td>SC</td>\n",
       "      <td>MORTGAGE</td>\n",
       "      <td>6541.67</td>\n",
       "      <td>735-739</td>\n",
       "      <td>14.0</td>\n",
       "      <td>14272.0</td>\n",
       "      <td>2.0</td>\n",
       "      <td>&lt; 1 year</td>\n",
       "    </tr>\n",
       "    <tr>\n",
       "      <th>1</th>\n",
       "      <td>19200.0</td>\n",
       "      <td>19200.0</td>\n",
       "      <td>12.12%</td>\n",
       "      <td>36 months</td>\n",
       "      <td>debt_consolidation</td>\n",
       "      <td>28.36%</td>\n",
       "      <td>TX</td>\n",
       "      <td>MORTGAGE</td>\n",
       "      <td>4583.33</td>\n",
       "      <td>715-719</td>\n",
       "      <td>12.0</td>\n",
       "      <td>11140.0</td>\n",
       "      <td>1.0</td>\n",
       "      <td>2 years</td>\n",
       "    </tr>\n",
       "    <tr>\n",
       "      <th>2</th>\n",
       "      <td>35000.0</td>\n",
       "      <td>35000.0</td>\n",
       "      <td>21.98%</td>\n",
       "      <td>60 months</td>\n",
       "      <td>debt_consolidation</td>\n",
       "      <td>23.81%</td>\n",
       "      <td>CA</td>\n",
       "      <td>MORTGAGE</td>\n",
       "      <td>11500.00</td>\n",
       "      <td>690-694</td>\n",
       "      <td>14.0</td>\n",
       "      <td>21977.0</td>\n",
       "      <td>1.0</td>\n",
       "      <td>2 years</td>\n",
       "    </tr>\n",
       "    <tr>\n",
       "      <th>3</th>\n",
       "      <td>10000.0</td>\n",
       "      <td>9975.0</td>\n",
       "      <td>9.99%</td>\n",
       "      <td>36 months</td>\n",
       "      <td>debt_consolidation</td>\n",
       "      <td>14.30%</td>\n",
       "      <td>KS</td>\n",
       "      <td>MORTGAGE</td>\n",
       "      <td>3833.33</td>\n",
       "      <td>695-699</td>\n",
       "      <td>10.0</td>\n",
       "      <td>9346.0</td>\n",
       "      <td>0.0</td>\n",
       "      <td>5 years</td>\n",
       "    </tr>\n",
       "    <tr>\n",
       "      <th>4</th>\n",
       "      <td>12000.0</td>\n",
       "      <td>12000.0</td>\n",
       "      <td>11.71%</td>\n",
       "      <td>36 months</td>\n",
       "      <td>credit_card</td>\n",
       "      <td>18.78%</td>\n",
       "      <td>NJ</td>\n",
       "      <td>RENT</td>\n",
       "      <td>3195.00</td>\n",
       "      <td>695-699</td>\n",
       "      <td>11.0</td>\n",
       "      <td>14469.0</td>\n",
       "      <td>0.0</td>\n",
       "      <td>9 years</td>\n",
       "    </tr>\n",
       "  </tbody>\n",
       "</table>\n",
       "</div>"
      ],
      "text/plain": [
       "   Amount.Requested  Amount.Funded.By.Investors Interest.Rate Loan.Length  \\\n",
       "0           20000.0                     20000.0         8.90%   36 months   \n",
       "1           19200.0                     19200.0        12.12%   36 months   \n",
       "2           35000.0                     35000.0        21.98%   60 months   \n",
       "3           10000.0                      9975.0         9.99%   36 months   \n",
       "4           12000.0                     12000.0        11.71%   36 months   \n",
       "\n",
       "         Loan.Purpose Debt.To.Income.Ratio State Home.Ownership  \\\n",
       "0  debt_consolidation               14.90%    SC       MORTGAGE   \n",
       "1  debt_consolidation               28.36%    TX       MORTGAGE   \n",
       "2  debt_consolidation               23.81%    CA       MORTGAGE   \n",
       "3  debt_consolidation               14.30%    KS       MORTGAGE   \n",
       "4         credit_card               18.78%    NJ           RENT   \n",
       "\n",
       "   Monthly.Income FICO.Range  Open.CREDIT.Lines  Revolving.CREDIT.Balance  \\\n",
       "0         6541.67    735-739               14.0                   14272.0   \n",
       "1         4583.33    715-719               12.0                   11140.0   \n",
       "2        11500.00    690-694               14.0                   21977.0   \n",
       "3         3833.33    695-699               10.0                    9346.0   \n",
       "4         3195.00    695-699               11.0                   14469.0   \n",
       "\n",
       "   Inquiries.in.the.Last.6.Months Employment.Length  \n",
       "0                             2.0          < 1 year  \n",
       "1                             1.0           2 years  \n",
       "2                             1.0           2 years  \n",
       "3                             0.0           5 years  \n",
       "4                             0.0           9 years  "
      ]
     },
     "execution_count": 575,
     "metadata": {},
     "output_type": "execute_result"
    }
   ],
   "source": [
    "loan_data.head()"
   ]
  },
  {
   "cell_type": "code",
   "execution_count": 576,
   "id": "b68b93bf",
   "metadata": {},
   "outputs": [
    {
     "name": "stdout",
     "output_type": "stream",
     "text": [
      "<class 'pandas.core.frame.DataFrame'>\n",
      "RangeIndex: 2500 entries, 0 to 2499\n",
      "Data columns (total 14 columns):\n",
      " #   Column                          Non-Null Count  Dtype  \n",
      "---  ------                          --------------  -----  \n",
      " 0   Amount.Requested                2499 non-null   float64\n",
      " 1   Amount.Funded.By.Investors      2499 non-null   float64\n",
      " 2   Interest.Rate                   2498 non-null   object \n",
      " 3   Loan.Length                     2500 non-null   object \n",
      " 4   Loan.Purpose                    2500 non-null   object \n",
      " 5   Debt.To.Income.Ratio            2499 non-null   object \n",
      " 6   State                           2500 non-null   object \n",
      " 7   Home.Ownership                  2499 non-null   object \n",
      " 8   Monthly.Income                  2499 non-null   float64\n",
      " 9   FICO.Range                      2498 non-null   object \n",
      " 10  Open.CREDIT.Lines               2497 non-null   float64\n",
      " 11  Revolving.CREDIT.Balance        2497 non-null   float64\n",
      " 12  Inquiries.in.the.Last.6.Months  2497 non-null   float64\n",
      " 13  Employment.Length               2423 non-null   object \n",
      "dtypes: float64(6), object(8)\n",
      "memory usage: 273.6+ KB\n"
     ]
    }
   ],
   "source": [
    "loan_data.info()"
   ]
  },
  {
   "cell_type": "code",
   "execution_count": 577,
   "id": "2fdc0a3f",
   "metadata": {},
   "outputs": [],
   "source": [
    "# Removing duplicates, if any.\n",
    "\n",
    "loan_data.drop_duplicates(inplace=True)"
   ]
  },
  {
   "cell_type": "code",
   "execution_count": 578,
   "id": "d1781eb5",
   "metadata": {},
   "outputs": [],
   "source": [
    "#Changing type of ratio columns\n",
    "\n",
    "loan_data['Interest.Rate']= loan_data['Interest.Rate']=loan_data['Interest.Rate'].str.replace('%','').astype('float64')\n",
    "loan_data['Debt.To.Income.Ratio']= loan_data['Debt.To.Income.Ratio'].str.replace('%','').astype('float64')"
   ]
  },
  {
   "cell_type": "code",
   "execution_count": 579,
   "id": "13df0512",
   "metadata": {},
   "outputs": [
    {
     "data": {
      "text/plain": [
       "Amount.Requested                   380\n",
       "Amount.Funded.By.Investors         710\n",
       "Interest.Rate                      275\n",
       "Loan.Length                          2\n",
       "Loan.Purpose                        14\n",
       "Debt.To.Income.Ratio              1669\n",
       "State                               46\n",
       "Home.Ownership                       5\n",
       "Monthly.Income                     632\n",
       "FICO.Range                          38\n",
       "Open.CREDIT.Lines                   29\n",
       "Revolving.CREDIT.Balance          2349\n",
       "Inquiries.in.the.Last.6.Months      10\n",
       "Employment.Length                   11\n",
       "dtype: int64"
      ]
     },
     "execution_count": 579,
     "metadata": {},
     "output_type": "execute_result"
    }
   ],
   "source": [
    "#checking for continuous or categorical variable\n",
    "\n",
    "loan_data.nunique()"
   ]
  },
  {
   "cell_type": "code",
   "execution_count": 580,
   "id": "80bd7228",
   "metadata": {},
   "outputs": [
    {
     "data": {
      "text/plain": [
       "Amount.Requested                   1\n",
       "Amount.Funded.By.Investors         1\n",
       "Interest.Rate                      2\n",
       "Loan.Length                        0\n",
       "Loan.Purpose                       0\n",
       "Debt.To.Income.Ratio               1\n",
       "State                              0\n",
       "Home.Ownership                     1\n",
       "Monthly.Income                     1\n",
       "FICO.Range                         2\n",
       "Open.CREDIT.Lines                  3\n",
       "Revolving.CREDIT.Balance           3\n",
       "Inquiries.in.the.Last.6.Months     3\n",
       "Employment.Length                 77\n",
       "dtype: int64"
      ]
     },
     "execution_count": 580,
     "metadata": {},
     "output_type": "execute_result"
    }
   ],
   "source": [
    "loan_data.isna().sum()"
   ]
  },
  {
   "cell_type": "code",
   "execution_count": 581,
   "id": "b0b14a9e",
   "metadata": {},
   "outputs": [
    {
     "data": {
      "text/plain": [
       "True"
      ]
     },
     "execution_count": 581,
     "metadata": {},
     "output_type": "execute_result"
    }
   ],
   "source": [
    "# checking if we can fill employment length as mode of the employment length data \n",
    "\n",
    "77/2500*100 <5"
   ]
  },
  {
   "cell_type": "raw",
   "id": "cf6dbf20",
   "metadata": {},
   "source": [
    "Since it's less than 5% of the data we can fill it with the mode value of employment length."
   ]
  },
  {
   "cell_type": "code",
   "execution_count": 582,
   "id": "5aea3e9a",
   "metadata": {},
   "outputs": [],
   "source": [
    "#Filling null values for continuous variables with their mean and for categorical variables with their mode. \n",
    "\n",
    "loan_data['Amount.Requested'].fillna(value= round(loan_data['Amount.Requested'].mean(),2), inplace=True)\n",
    "loan_data['Amount.Funded.By.Investors'].fillna(value= round(loan_data['Amount.Funded.By.Investors'].mean(),2), inplace=True)\n",
    "loan_data['Interest.Rate'].fillna(value= round(loan_data['Interest.Rate'].mean(),2), inplace=True)\n",
    "loan_data['Debt.To.Income.Ratio'].fillna(value= round(loan_data['Debt.To.Income.Ratio'].mean(),2), inplace=True)\n",
    "loan_data['Home.Ownership'].fillna(value= loan_data['Home.Ownership'].mode().item(), inplace=True)\n",
    "loan_data['Monthly.Income'].fillna(value= round(loan_data['Monthly.Income'].mean(),2), inplace=True)\n",
    "loan_data['FICO.Range'].fillna(value= loan_data['FICO.Range'].mode().item(), inplace=True)\n",
    "loan_data['Open.CREDIT.Lines'].fillna(value= loan_data['Open.CREDIT.Lines'].mode().item(), inplace=True)\n",
    "loan_data['Revolving.CREDIT.Balance'].fillna(value= round(loan_data['Revolving.CREDIT.Balance'].mean(),2), inplace=True)\n",
    "loan_data['Inquiries.in.the.Last.6.Months'].fillna(value= loan_data['Inquiries.in.the.Last.6.Months'].mode().item(), inplace=True)\n",
    "loan_data['Employment.Length'].fillna(value= loan_data['Employment.Length'].mode().item(), inplace=True)\n"
   ]
  },
  {
   "cell_type": "code",
   "execution_count": 583,
   "id": "149eeb00",
   "metadata": {},
   "outputs": [
    {
     "data": {
      "text/plain": [
       "Amount.Requested                  0\n",
       "Amount.Funded.By.Investors        0\n",
       "Interest.Rate                     0\n",
       "Loan.Length                       0\n",
       "Loan.Purpose                      0\n",
       "Debt.To.Income.Ratio              0\n",
       "State                             0\n",
       "Home.Ownership                    0\n",
       "Monthly.Income                    0\n",
       "FICO.Range                        0\n",
       "Open.CREDIT.Lines                 0\n",
       "Revolving.CREDIT.Balance          0\n",
       "Inquiries.in.the.Last.6.Months    0\n",
       "Employment.Length                 0\n",
       "dtype: int64"
      ]
     },
     "execution_count": 583,
     "metadata": {},
     "output_type": "execute_result"
    }
   ],
   "source": [
    "# Checking for null values\n",
    "\n",
    "loan_data.isna().sum()"
   ]
  },
  {
   "cell_type": "markdown",
   "id": "ddfda01a",
   "metadata": {},
   "source": [
    "### a. Interest rate is varied for different loan amounts (Less interest charged for high loan amounts)"
   ]
  },
  {
   "cell_type": "code",
   "execution_count": 587,
   "id": "aaf791df",
   "metadata": {},
   "outputs": [
    {
     "name": "stderr",
     "output_type": "stream",
     "text": [
      "C:\\Users\\DELL\\anaconda3\\lib\\site-packages\\seaborn\\_decorators.py:36: FutureWarning: Pass the following variables as keyword args: x, y. From version 0.12, the only valid positional argument will be `data`, and passing other arguments without an explicit keyword will result in an error or misinterpretation.\n",
      "  warnings.warn(\n"
     ]
    },
    {
     "data": {
      "text/plain": [
       "<AxesSubplot:xlabel='Interest.Rate', ylabel='Amount.Requested'>"
      ]
     },
     "execution_count": 587,
     "metadata": {},
     "output_type": "execute_result"
    },
    {
     "data": {
      "image/png": "[encoded data removed]",
      "text/plain": [
       "<Figure size 720x360 with 1 Axes>"
      ]
     },
     "metadata": {
      "needs_background": "light"
     },
     "output_type": "display_data"
    }
   ],
   "source": [
    "plt.figure(figsize=(10,5))\n",
    "sns.scatterplot(loan_data['Interest.Rate'],loan_data['Amount.Requested'])"
   ]
  },
  {
   "cell_type": "raw",
   "id": "bc25c28e",
   "metadata": {},
   "source": [
    "# Defining hypothesis\n",
    "\n",
    "H0 - There is no relationship in interest rates and loan amounts. \n",
    "Ha - There is a relationship in interest rates and loan amounts. \n",
    "\n",
    "CI - 95%\n",
    "p - 0.05"
   ]
  },
  {
   "cell_type": "code",
   "execution_count": 588,
   "id": "9c149a45",
   "metadata": {},
   "outputs": [
    {
     "data": {
      "text/plain": [
       "(0.33244655278869883, 1.4146738186956556e-65)"
      ]
     },
     "execution_count": 588,
     "metadata": {},
     "output_type": "execute_result"
    }
   ],
   "source": [
    "# Conducting the correlation test to check the relationship\n",
    "\n",
    "stats.pearsonr(loan_data['Interest.Rate'],loan_data['Amount.Requested'])"
   ]
  },
  {
   "cell_type": "code",
   "execution_count": 613,
   "id": "af6a81fa",
   "metadata": {},
   "outputs": [
    {
     "data": {
      "text/plain": [
       "1.4146738186956556e-65"
      ]
     },
     "execution_count": 613,
     "metadata": {},
     "output_type": "execute_result"
    }
   ],
   "source": [
    "pvalue_1= stats.pearsonr(loan_data['Interest.Rate'],loan_data['Amount.Requested'])[1]\n",
    "pvalue_1"
   ]
  },
  {
   "cell_type": "code",
   "execution_count": 614,
   "id": "89e6f388",
   "metadata": {},
   "outputs": [
    {
     "name": "stdout",
     "output_type": "stream",
     "text": [
      "We reject null hypothesis\n"
     ]
    }
   ],
   "source": [
    "# Checking if p value is greater than or less than 0.05.\n",
    "\n",
    "if(pvalue_1<0.05):\n",
    "    print('We reject null hypothesis')\n",
    "else:\n",
    "    print('We fail to reject null hypothesis')"
   ]
  },
  {
   "cell_type": "raw",
   "id": "1cb3d88e",
   "metadata": {},
   "source": [
    "Business conclusion: Therefore, interest rate is varied for different loan amounts (Less interest charged for high loan amounts)."
   ]
  },
  {
   "cell_type": "markdown",
   "id": "e1fe34c5",
   "metadata": {},
   "source": [
    "### b. Loan length is directly effecting interest rate."
   ]
  },
  {
   "cell_type": "code",
   "execution_count": 615,
   "id": "47fe00a2",
   "metadata": {},
   "outputs": [
    {
     "data": {
      "text/html": [
       "<div>\n",
       "<style scoped>\n",
       "    .dataframe tbody tr th:only-of-type {\n",
       "        vertical-align: middle;\n",
       "    }\n",
       "\n",
       "    .dataframe tbody tr th {\n",
       "        vertical-align: top;\n",
       "    }\n",
       "\n",
       "    .dataframe thead th {\n",
       "        text-align: right;\n",
       "    }\n",
       "</style>\n",
       "<table border=\"1\" class=\"dataframe\">\n",
       "  <thead>\n",
       "    <tr style=\"text-align: right;\">\n",
       "      <th></th>\n",
       "      <th>Loan.Length</th>\n",
       "      <th>mean</th>\n",
       "      <th>std</th>\n",
       "    </tr>\n",
       "  </thead>\n",
       "  <tbody>\n",
       "    <tr>\n",
       "      <th>0</th>\n",
       "      <td>36 months</td>\n",
       "      <td>12.127147</td>\n",
       "      <td>3.679458</td>\n",
       "    </tr>\n",
       "    <tr>\n",
       "      <th>1</th>\n",
       "      <td>60 months</td>\n",
       "      <td>16.407464</td>\n",
       "      <td>4.127213</td>\n",
       "    </tr>\n",
       "  </tbody>\n",
       "</table>\n",
       "</div>"
      ],
      "text/plain": [
       "  Loan.Length       mean       std\n",
       "0   36 months  12.127147  3.679458\n",
       "1   60 months  16.407464  4.127213"
      ]
     },
     "execution_count": 615,
     "metadata": {},
     "output_type": "execute_result"
    }
   ],
   "source": [
    "loan_data.groupby(loan_data['Loan.Length'])['Interest.Rate'].agg([np.mean,np.std]).reset_index()"
   ]
  },
  {
   "cell_type": "code",
   "execution_count": 616,
   "id": "3d5445da",
   "metadata": {},
   "outputs": [
    {
     "data": {
      "text/plain": [
       "0     8.90\n",
       "1    12.12\n",
       "Name: Interest.Rate, dtype: float64"
      ]
     },
     "execution_count": 616,
     "metadata": {},
     "output_type": "execute_result"
    }
   ],
   "source": [
    "# Creating data for testing our hypothesis\n",
    "\n",
    "loans1= loan_data.loc[loan_data['Loan.Length']=='36 months', 'Interest.Rate']\n",
    "loans1.head(2)"
   ]
  },
  {
   "cell_type": "code",
   "execution_count": 617,
   "id": "30fea401",
   "metadata": {},
   "outputs": [
    {
     "data": {
      "text/plain": [
       "2    21.98\n",
       "7    17.14\n",
       "Name: Interest.Rate, dtype: float64"
      ]
     },
     "execution_count": 617,
     "metadata": {},
     "output_type": "execute_result"
    }
   ],
   "source": [
    "loans2= loan_data.loc[loan_data['Loan.Length']=='60 months', 'Interest.Rate' ]\n",
    "loans2.head(2)"
   ]
  },
  {
   "cell_type": "raw",
   "id": "392f713e",
   "metadata": {},
   "source": [
    "# Defining hypothesis\n",
    "\n",
    "H0 - There is no relationship in interest rates and loan length. (u1>=u2)\n",
    "Ha - There is a relationship in interest rates and loan length. (u1<u2)\n",
    "\n",
    "CI - 95%\n",
    "p - 0.05"
   ]
  },
  {
   "cell_type": "raw",
   "id": "8f97cd28",
   "metadata": {},
   "source": [
    "u1= 12.127147\n",
    "u2= 16.407464\n",
    "From the observed data u1<u2, so we can take the alternative hypothesis to be u1<u2"
   ]
  },
  {
   "cell_type": "code",
   "execution_count": 618,
   "id": "010ea8c9",
   "metadata": {},
   "outputs": [
    {
     "data": {
      "text/plain": [
       "1.2581895267281333"
      ]
     },
     "execution_count": 618,
     "metadata": {},
     "output_type": "execute_result"
    }
   ],
   "source": [
    "#Ratio of larger sample variance to smaller sample variance\n",
    "\n",
    "(4.127213/3.679458)**2"
   ]
  },
  {
   "cell_type": "raw",
   "id": "82a5110d",
   "metadata": {},
   "source": [
    "The ratio of the larger sample variance to the smaller sample variance is less than 4 therefore we can assume the variances of the two samples to be equal and perform t test with equal variance condition as true. "
   ]
  },
  {
   "cell_type": "code",
   "execution_count": 624,
   "id": "44776001",
   "metadata": {},
   "outputs": [
    {
     "data": {
      "text/plain": [
       "Ttest_indResult(statistic=-23.410458709272653, pvalue=4.7776941834050233e-110)"
      ]
     },
     "execution_count": 624,
     "metadata": {},
     "output_type": "execute_result"
    }
   ],
   "source": [
    "# performing t test of independent samples and using alternative argument to make the test one tailed. \n",
    "\n",
    "stats.ttest_ind(loans1,loans2, alternative='less')"
   ]
  },
  {
   "cell_type": "code",
   "execution_count": 626,
   "id": "0ea4ce1c",
   "metadata": {},
   "outputs": [
    {
     "data": {
      "text/plain": [
       "4.7776941834050233e-110"
      ]
     },
     "execution_count": 626,
     "metadata": {},
     "output_type": "execute_result"
    }
   ],
   "source": [
    "# pvalue of the t test \n",
    "\n",
    "pvalue_1_b= stats.ttest_ind(loans1,loans2, alternative='less').pvalue\n",
    "pvalue_1_b"
   ]
  },
  {
   "cell_type": "code",
   "execution_count": 627,
   "id": "ae03a1ab",
   "metadata": {},
   "outputs": [
    {
     "name": "stdout",
     "output_type": "stream",
     "text": [
      "We reject null hypothesis\n"
     ]
    }
   ],
   "source": [
    "# Checking if p value is greater than or less than 0.05.\n",
    "\n",
    "if(pvalue_1_b<0.05):\n",
    "    print('We reject null hypothesis')\n",
    "else:\n",
    "    print('We fail to reject null hypothesis')"
   ]
  },
  {
   "cell_type": "raw",
   "id": "0cd4ce86",
   "metadata": {},
   "source": [
    "Business conclusion: Therefore, interest rate is varied for different loan lengths.For lower loan length it is lower. "
   ]
  },
  {
   "cell_type": "markdown",
   "id": "5e2a7ff4",
   "metadata": {},
   "source": [
    "### c. Interest rate varies for different purpose of loans."
   ]
  },
  {
   "cell_type": "raw",
   "id": "029c81a0",
   "metadata": {},
   "source": [
    "# Defining hypothesis\n",
    "\n",
    "H0 - There is no relationship in interest rates and purpose of loans.\n",
    "Ha - There is a relationship in interest rates and purpose of loans.\n",
    "\n",
    "CI - 95%\n",
    "p - 0.05"
   ]
  },
  {
   "cell_type": "code",
   "execution_count": 645,
   "id": "fd03f0a8",
   "metadata": {},
   "outputs": [
    {
     "data": {
      "text/plain": [
       "array(['debt_consolidation', 'credit_card', 'other', 'moving', 'car',\n",
       "       'vacation', 'home_improvement', 'house', 'major_purchase',\n",
       "       'educational', 'medical', 'wedding', 'small_business',\n",
       "       'renewable_energy'], dtype=object)"
      ]
     },
     "execution_count": 645,
     "metadata": {},
     "output_type": "execute_result"
    }
   ],
   "source": [
    "loan_data['Loan.Purpose'].unique()"
   ]
  },
  {
   "cell_type": "code",
   "execution_count": 648,
   "id": "db506a9a",
   "metadata": {},
   "outputs": [],
   "source": [
    "# Creating independent samples based on different purposes of loans. \n",
    "\n",
    "purpose_list=[]\n",
    "for i in loan_data['Loan.Purpose'].unique():\n",
    "    purpose_list.append(loan_data.loc[loan_data['Loan.Purpose']==i,'Interest.Rate'])"
   ]
  },
  {
   "cell_type": "code",
   "execution_count": 649,
   "id": "4996947c",
   "metadata": {},
   "outputs": [
    {
     "data": {
      "text/plain": [
       "F_onewayResult(statistic=7.4825947670544615, pvalue=1.1602506809075995e-14)"
      ]
     },
     "execution_count": 649,
     "metadata": {},
     "output_type": "execute_result"
    }
   ],
   "source": [
    "# Conducting f test for different purpose samples. \n",
    "\n",
    "c_ftest = stats.f_oneway(purpose_list[0], purpose_list[1],purpose_list[2], purpose_list[3],purpose_list[4], purpose_list[5],\n",
    "               purpose_list[6], purpose_list[7], purpose_list[8], purpose_list[9],purpose_list[10], purpose_list[11],\n",
    "               purpose_list[12], purpose_list[13])\n",
    "c_ftest"
   ]
  },
  {
   "cell_type": "code",
   "execution_count": 650,
   "id": "98dcd6b9",
   "metadata": {},
   "outputs": [
    {
     "data": {
      "text/plain": [
       "1.1602506809075995e-14"
      ]
     },
     "execution_count": 650,
     "metadata": {},
     "output_type": "execute_result"
    }
   ],
   "source": [
    "# p value for different samples.\n",
    "\n",
    "pvalue_1_c= c_ftest.pvalue\n",
    "pvalue_1_c"
   ]
  },
  {
   "cell_type": "code",
   "execution_count": 651,
   "id": "aeb0fca5",
   "metadata": {},
   "outputs": [
    {
     "name": "stdout",
     "output_type": "stream",
     "text": [
      "We reject null hypothesis\n"
     ]
    }
   ],
   "source": [
    "# Checking if p value is greater than or less than 0.05.\n",
    "\n",
    "if(pvalue_1_c<0.05):\n",
    "    print('We reject null hypothesis')\n",
    "else:\n",
    "    print('We fail to reject null hypothesis')"
   ]
  },
  {
   "cell_type": "raw",
   "id": "3695c9a4",
   "metadata": {},
   "source": [
    "Business conclusion: Therefore, interest rate is varied for different purposes of loans with a confidence of 95%. "
   ]
  },
  {
   "cell_type": "markdown",
   "id": "c5f81ea3",
   "metadata": {},
   "source": [
    "### d. There is relationship between FICO scores and Home Ownership. It means that, people with owning home will have high FICO scores."
   ]
  },
  {
   "cell_type": "raw",
   "id": "cdc6e4b8",
   "metadata": {},
   "source": [
    "# defining hypothesis \n",
    "\n",
    "H0 - There is no relationship between FICO scores and Home Ownership.\n",
    "Ha - There is a relationship between FICO scores and Home Ownership. \n",
    "\n",
    "CI - 95%\n",
    "p - 0.05"
   ]
  },
  {
   "cell_type": "code",
   "execution_count": 532,
   "id": "8b91ff89",
   "metadata": {},
   "outputs": [
    {
     "data": {
      "text/html": [
       "<div>\n",
       "<style scoped>\n",
       "    .dataframe tbody tr th:only-of-type {\n",
       "        vertical-align: middle;\n",
       "    }\n",
       "\n",
       "    .dataframe tbody tr th {\n",
       "        vertical-align: top;\n",
       "    }\n",
       "\n",
       "    .dataframe thead th {\n",
       "        text-align: right;\n",
       "    }\n",
       "</style>\n",
       "<table border=\"1\" class=\"dataframe\">\n",
       "  <thead>\n",
       "    <tr style=\"text-align: right;\">\n",
       "      <th>FICO.Range</th>\n",
       "      <th>640-644</th>\n",
       "      <th>645-649</th>\n",
       "      <th>650-654</th>\n",
       "      <th>655-659</th>\n",
       "      <th>660-664</th>\n",
       "      <th>665-669</th>\n",
       "      <th>670-674</th>\n",
       "      <th>675-679</th>\n",
       "      <th>680-684</th>\n",
       "      <th>685-689</th>\n",
       "      <th>...</th>\n",
       "      <th>780-784</th>\n",
       "      <th>785-789</th>\n",
       "      <th>790-794</th>\n",
       "      <th>795-799</th>\n",
       "      <th>800-804</th>\n",
       "      <th>805-809</th>\n",
       "      <th>810-814</th>\n",
       "      <th>815-819</th>\n",
       "      <th>820-824</th>\n",
       "      <th>830-834</th>\n",
       "    </tr>\n",
       "    <tr>\n",
       "      <th>Home.Ownership</th>\n",
       "      <th></th>\n",
       "      <th></th>\n",
       "      <th></th>\n",
       "      <th></th>\n",
       "      <th></th>\n",
       "      <th></th>\n",
       "      <th></th>\n",
       "      <th></th>\n",
       "      <th></th>\n",
       "      <th></th>\n",
       "      <th></th>\n",
       "      <th></th>\n",
       "      <th></th>\n",
       "      <th></th>\n",
       "      <th></th>\n",
       "      <th></th>\n",
       "      <th></th>\n",
       "      <th></th>\n",
       "      <th></th>\n",
       "      <th></th>\n",
       "      <th></th>\n",
       "    </tr>\n",
       "  </thead>\n",
       "  <tbody>\n",
       "    <tr>\n",
       "      <th>MORTGAGE</th>\n",
       "      <td>0</td>\n",
       "      <td>1</td>\n",
       "      <td>1</td>\n",
       "      <td>0</td>\n",
       "      <td>41</td>\n",
       "      <td>52</td>\n",
       "      <td>68</td>\n",
       "      <td>79</td>\n",
       "      <td>55</td>\n",
       "      <td>61</td>\n",
       "      <td>...</td>\n",
       "      <td>21</td>\n",
       "      <td>12</td>\n",
       "      <td>15</td>\n",
       "      <td>7</td>\n",
       "      <td>7</td>\n",
       "      <td>6</td>\n",
       "      <td>5</td>\n",
       "      <td>6</td>\n",
       "      <td>0</td>\n",
       "      <td>1</td>\n",
       "    </tr>\n",
       "    <tr>\n",
       "      <th>NONE</th>\n",
       "      <td>0</td>\n",
       "      <td>0</td>\n",
       "      <td>0</td>\n",
       "      <td>0</td>\n",
       "      <td>0</td>\n",
       "      <td>0</td>\n",
       "      <td>0</td>\n",
       "      <td>0</td>\n",
       "      <td>0</td>\n",
       "      <td>0</td>\n",
       "      <td>...</td>\n",
       "      <td>0</td>\n",
       "      <td>0</td>\n",
       "      <td>0</td>\n",
       "      <td>0</td>\n",
       "      <td>1</td>\n",
       "      <td>0</td>\n",
       "      <td>0</td>\n",
       "      <td>0</td>\n",
       "      <td>0</td>\n",
       "      <td>0</td>\n",
       "    </tr>\n",
       "    <tr>\n",
       "      <th>OTHER</th>\n",
       "      <td>0</td>\n",
       "      <td>0</td>\n",
       "      <td>0</td>\n",
       "      <td>1</td>\n",
       "      <td>0</td>\n",
       "      <td>0</td>\n",
       "      <td>1</td>\n",
       "      <td>1</td>\n",
       "      <td>2</td>\n",
       "      <td>0</td>\n",
       "      <td>...</td>\n",
       "      <td>0</td>\n",
       "      <td>0</td>\n",
       "      <td>0</td>\n",
       "      <td>0</td>\n",
       "      <td>0</td>\n",
       "      <td>0</td>\n",
       "      <td>0</td>\n",
       "      <td>0</td>\n",
       "      <td>0</td>\n",
       "      <td>0</td>\n",
       "    </tr>\n",
       "    <tr>\n",
       "      <th>OWN</th>\n",
       "      <td>1</td>\n",
       "      <td>0</td>\n",
       "      <td>0</td>\n",
       "      <td>0</td>\n",
       "      <td>17</td>\n",
       "      <td>18</td>\n",
       "      <td>13</td>\n",
       "      <td>11</td>\n",
       "      <td>9</td>\n",
       "      <td>10</td>\n",
       "      <td>...</td>\n",
       "      <td>3</td>\n",
       "      <td>2</td>\n",
       "      <td>1</td>\n",
       "      <td>1</td>\n",
       "      <td>3</td>\n",
       "      <td>2</td>\n",
       "      <td>1</td>\n",
       "      <td>0</td>\n",
       "      <td>1</td>\n",
       "      <td>0</td>\n",
       "    </tr>\n",
       "    <tr>\n",
       "      <th>RENT</th>\n",
       "      <td>4</td>\n",
       "      <td>2</td>\n",
       "      <td>0</td>\n",
       "      <td>3</td>\n",
       "      <td>67</td>\n",
       "      <td>75</td>\n",
       "      <td>91</td>\n",
       "      <td>75</td>\n",
       "      <td>91</td>\n",
       "      <td>65</td>\n",
       "      <td>...</td>\n",
       "      <td>4</td>\n",
       "      <td>5</td>\n",
       "      <td>4</td>\n",
       "      <td>5</td>\n",
       "      <td>2</td>\n",
       "      <td>3</td>\n",
       "      <td>2</td>\n",
       "      <td>0</td>\n",
       "      <td>0</td>\n",
       "      <td>0</td>\n",
       "    </tr>\n",
       "  </tbody>\n",
       "</table>\n",
       "<p>5 rows × 38 columns</p>\n",
       "</div>"
      ],
      "text/plain": [
       "FICO.Range      640-644  645-649  650-654  655-659  660-664  665-669  670-674  \\\n",
       "Home.Ownership                                                                  \n",
       "MORTGAGE              0        1        1        0       41       52       68   \n",
       "NONE                  0        0        0        0        0        0        0   \n",
       "OTHER                 0        0        0        1        0        0        1   \n",
       "OWN                   1        0        0        0       17       18       13   \n",
       "RENT                  4        2        0        3       67       75       91   \n",
       "\n",
       "FICO.Range      675-679  680-684  685-689  ...  780-784  785-789  790-794  \\\n",
       "Home.Ownership                             ...                              \n",
       "MORTGAGE             79       55       61  ...       21       12       15   \n",
       "NONE                  0        0        0  ...        0        0        0   \n",
       "OTHER                 1        2        0  ...        0        0        0   \n",
       "OWN                  11        9       10  ...        3        2        1   \n",
       "RENT                 75       91       65  ...        4        5        4   \n",
       "\n",
       "FICO.Range      795-799  800-804  805-809  810-814  815-819  820-824  830-834  \n",
       "Home.Ownership                                                                 \n",
       "MORTGAGE              7        7        6        5        6        0        1  \n",
       "NONE                  0        1        0        0        0        0        0  \n",
       "OTHER                 0        0        0        0        0        0        0  \n",
       "OWN                   1        3        2        1        0        1        0  \n",
       "RENT                  5        2        3        2        0        0        0  \n",
       "\n",
       "[5 rows x 38 columns]"
      ]
     },
     "execution_count": 532,
     "metadata": {},
     "output_type": "execute_result"
    }
   ],
   "source": [
    "# Since FICO Scores and Home ownership are two categorical columns, we will be using chi square test to check if a relationship\n",
    "# exists between them. For performing the chi square test we will be creating a crosstab of Fico scores and home ownership column. \n",
    "\n",
    "obs_freq= pd.crosstab(loan_data['Home.Ownership'], loan_data['FICO.Range'])\n",
    "obs_freq"
   ]
  },
  {
   "cell_type": "code",
   "execution_count": 628,
   "id": "150c27c6",
   "metadata": {},
   "outputs": [
    {
     "data": {
      "text/plain": [
       "<AxesSubplot:xlabel='FICO.Range', ylabel='Home.Ownership'>"
      ]
     },
     "execution_count": 628,
     "metadata": {},
     "output_type": "execute_result"
    },
    {
     "data": {
      "image/png": "[encoded data removed]",
      "text/plain": [
       "<Figure size 432x288 with 2 Axes>"
      ]
     },
     "metadata": {
      "needs_background": "light"
     },
     "output_type": "display_data"
    }
   ],
   "source": [
    "# Plot to see if high FICO scores are related to home ownerhip.\n",
    "\n",
    "sns.heatmap(obs_freq)"
   ]
  },
  {
   "cell_type": "code",
   "execution_count": 629,
   "id": "397bf3a6",
   "metadata": {},
   "outputs": [
    {
     "data": {
      "text/plain": [
       "(473.5648028168521,\n",
       " 1.0065160858471904e-35,\n",
       " 148,\n",
       " array([[2.29600e+00, 1.37760e+00, 4.59200e-01, 1.83680e+00, 5.74000e+01,\n",
       "         6.65840e+01, 7.94416e+01, 7.62272e+01, 7.20944e+01, 6.24512e+01,\n",
       "         6.42880e+01, 7.02576e+01, 6.01552e+01, 6.15328e+01, 5.14304e+01,\n",
       "         4.27056e+01, 5.23488e+01, 4.31648e+01, 4.31648e+01, 2.98480e+01,\n",
       "         2.43376e+01, 2.47968e+01, 2.80112e+01, 2.11232e+01, 2.11232e+01,\n",
       "         1.65312e+01, 7.80640e+00, 1.01024e+01, 1.28576e+01, 8.72480e+00,\n",
       "         9.18400e+00, 5.96960e+00, 5.96960e+00, 5.05120e+00, 3.67360e+00,\n",
       "         2.75520e+00, 4.59200e-01, 4.59200e-01],\n",
       "        [2.00000e-03, 1.20000e-03, 4.00000e-04, 1.60000e-03, 5.00000e-02,\n",
       "         5.80000e-02, 6.92000e-02, 6.64000e-02, 6.28000e-02, 5.44000e-02,\n",
       "         5.60000e-02, 6.12000e-02, 5.24000e-02, 5.36000e-02, 4.48000e-02,\n",
       "         3.72000e-02, 4.56000e-02, 3.76000e-02, 3.76000e-02, 2.60000e-02,\n",
       "         2.12000e-02, 2.16000e-02, 2.44000e-02, 1.84000e-02, 1.84000e-02,\n",
       "         1.44000e-02, 6.80000e-03, 8.80000e-03, 1.12000e-02, 7.60000e-03,\n",
       "         8.00000e-03, 5.20000e-03, 5.20000e-03, 4.40000e-03, 3.20000e-03,\n",
       "         2.40000e-03, 4.00000e-04, 4.00000e-04],\n",
       "        [1.00000e-02, 6.00000e-03, 2.00000e-03, 8.00000e-03, 2.50000e-01,\n",
       "         2.90000e-01, 3.46000e-01, 3.32000e-01, 3.14000e-01, 2.72000e-01,\n",
       "         2.80000e-01, 3.06000e-01, 2.62000e-01, 2.68000e-01, 2.24000e-01,\n",
       "         1.86000e-01, 2.28000e-01, 1.88000e-01, 1.88000e-01, 1.30000e-01,\n",
       "         1.06000e-01, 1.08000e-01, 1.22000e-01, 9.20000e-02, 9.20000e-02,\n",
       "         7.20000e-02, 3.40000e-02, 4.40000e-02, 5.60000e-02, 3.80000e-02,\n",
       "         4.00000e-02, 2.60000e-02, 2.60000e-02, 2.20000e-02, 1.60000e-02,\n",
       "         1.20000e-02, 2.00000e-03, 2.00000e-03],\n",
       "        [4.00000e-01, 2.40000e-01, 8.00000e-02, 3.20000e-01, 1.00000e+01,\n",
       "         1.16000e+01, 1.38400e+01, 1.32800e+01, 1.25600e+01, 1.08800e+01,\n",
       "         1.12000e+01, 1.22400e+01, 1.04800e+01, 1.07200e+01, 8.96000e+00,\n",
       "         7.44000e+00, 9.12000e+00, 7.52000e+00, 7.52000e+00, 5.20000e+00,\n",
       "         4.24000e+00, 4.32000e+00, 4.88000e+00, 3.68000e+00, 3.68000e+00,\n",
       "         2.88000e+00, 1.36000e+00, 1.76000e+00, 2.24000e+00, 1.52000e+00,\n",
       "         1.60000e+00, 1.04000e+00, 1.04000e+00, 8.80000e-01, 6.40000e-01,\n",
       "         4.80000e-01, 8.00000e-02, 8.00000e-02],\n",
       "        [2.29200e+00, 1.37520e+00, 4.58400e-01, 1.83360e+00, 5.73000e+01,\n",
       "         6.64680e+01, 7.93032e+01, 7.60944e+01, 7.19688e+01, 6.23424e+01,\n",
       "         6.41760e+01, 7.01352e+01, 6.00504e+01, 6.14256e+01, 5.13408e+01,\n",
       "         4.26312e+01, 5.22576e+01, 4.30896e+01, 4.30896e+01, 2.97960e+01,\n",
       "         2.42952e+01, 2.47536e+01, 2.79624e+01, 2.10864e+01, 2.10864e+01,\n",
       "         1.65024e+01, 7.79280e+00, 1.00848e+01, 1.28352e+01, 8.70960e+00,\n",
       "         9.16800e+00, 5.95920e+00, 5.95920e+00, 5.04240e+00, 3.66720e+00,\n",
       "         2.75040e+00, 4.58400e-01, 4.58400e-01]]))"
      ]
     },
     "execution_count": 629,
     "metadata": {},
     "output_type": "execute_result"
    }
   ],
   "source": [
    "# Performing chi square test \n",
    "\n",
    "stats.chi2_contingency(obs_freq)"
   ]
  },
  {
   "cell_type": "code",
   "execution_count": 630,
   "id": "dfe68897",
   "metadata": {},
   "outputs": [
    {
     "data": {
      "text/plain": [
       "1.0065160858471904e-35"
      ]
     },
     "execution_count": 630,
     "metadata": {},
     "output_type": "execute_result"
    }
   ],
   "source": [
    "# p value that came from performing the chi square test.\n",
    "\n",
    "pvalue_1_d= stats.chi2_contingency(obs_freq)[1]\n",
    "pvalue_1_d"
   ]
  },
  {
   "cell_type": "code",
   "execution_count": 631,
   "id": "8c293f14",
   "metadata": {},
   "outputs": [
    {
     "name": "stdout",
     "output_type": "stream",
     "text": [
      "We reject null hypothesis\n"
     ]
    }
   ],
   "source": [
    "# Checking if p value is greater than or less than 0.05.\n",
    "\n",
    "if(pvalue_1_d<0.05):\n",
    "    print('We reject null hypothesis')\n",
    "else:\n",
    "    print('We fail to reject null hypothesis')"
   ]
  },
  {
   "cell_type": "raw",
   "id": "bb296c2e",
   "metadata": {},
   "source": [
    "Business conclusion: There is a relationship between FICO scores and homeownership. That is people owning home will have high FICO scores."
   ]
  },
  {
   "cell_type": "markdown",
   "id": "e91e9c9e",
   "metadata": {},
   "source": [
    "### Business Problem 2\n",
    "\n",
    "### BACKGROUND: \n",
    "#### When an order is placed by a customer of a small manufacturing company, a price quote must be developed for that order. Because each order is unique, quotes must be established on an order-by-order basis by a pricing expert. The price quote process is labor intensive, as prices depend on many factors such as the part number, customer, geographic location, market, and order volume. The sales department manager is concerned that the pricing process is too complex, and that there might be too much variability in the quoted prices. An improvement team is tasked with studying and improving the pricing process. After interviewing experts to develop a better understanding of the current process, the team designed a study to determine if there is variability between pricing experts. That is, do different pricing experts provide different price quotes? Two randomly selected pricing experts, Mary and Barry, were asked to independently provide prices for twelve randomly selected orders. Each expert provided one price for each of the twelve orders.\n",
    "\n",
    "### BUSINESS PROBLEM: \n",
    "#### We would like to assess if there is any difference in the average price quotes provided by Mary and Barry."
   ]
  },
  {
   "cell_type": "code",
   "execution_count": 323,
   "id": "902d2207",
   "metadata": {},
   "outputs": [],
   "source": [
    "price_quotes_data= pd.read_csv(file_path+'/Price_Quotes.csv')"
   ]
  },
  {
   "cell_type": "code",
   "execution_count": 324,
   "id": "e1f0b7cb",
   "metadata": {},
   "outputs": [
    {
     "data": {
      "text/html": [
       "<div>\n",
       "<style scoped>\n",
       "    .dataframe tbody tr th:only-of-type {\n",
       "        vertical-align: middle;\n",
       "    }\n",
       "\n",
       "    .dataframe tbody tr th {\n",
       "        vertical-align: top;\n",
       "    }\n",
       "\n",
       "    .dataframe thead th {\n",
       "        text-align: right;\n",
       "    }\n",
       "</style>\n",
       "<table border=\"1\" class=\"dataframe\">\n",
       "  <thead>\n",
       "    <tr style=\"text-align: right;\">\n",
       "      <th></th>\n",
       "      <th>Order_Number</th>\n",
       "      <th>Barry_Price</th>\n",
       "      <th>Mary_Price</th>\n",
       "    </tr>\n",
       "  </thead>\n",
       "  <tbody>\n",
       "    <tr>\n",
       "      <th>0</th>\n",
       "      <td>1</td>\n",
       "      <td>126</td>\n",
       "      <td>114</td>\n",
       "    </tr>\n",
       "    <tr>\n",
       "      <th>1</th>\n",
       "      <td>2</td>\n",
       "      <td>110</td>\n",
       "      <td>118</td>\n",
       "    </tr>\n",
       "    <tr>\n",
       "      <th>2</th>\n",
       "      <td>3</td>\n",
       "      <td>138</td>\n",
       "      <td>114</td>\n",
       "    </tr>\n",
       "    <tr>\n",
       "      <th>3</th>\n",
       "      <td>4</td>\n",
       "      <td>142</td>\n",
       "      <td>111</td>\n",
       "    </tr>\n",
       "    <tr>\n",
       "      <th>4</th>\n",
       "      <td>5</td>\n",
       "      <td>146</td>\n",
       "      <td>129</td>\n",
       "    </tr>\n",
       "    <tr>\n",
       "      <th>5</th>\n",
       "      <td>6</td>\n",
       "      <td>136</td>\n",
       "      <td>119</td>\n",
       "    </tr>\n",
       "    <tr>\n",
       "      <th>6</th>\n",
       "      <td>7</td>\n",
       "      <td>94</td>\n",
       "      <td>97</td>\n",
       "    </tr>\n",
       "    <tr>\n",
       "      <th>7</th>\n",
       "      <td>8</td>\n",
       "      <td>103</td>\n",
       "      <td>104</td>\n",
       "    </tr>\n",
       "    <tr>\n",
       "      <th>8</th>\n",
       "      <td>9</td>\n",
       "      <td>140</td>\n",
       "      <td>127</td>\n",
       "    </tr>\n",
       "    <tr>\n",
       "      <th>9</th>\n",
       "      <td>10</td>\n",
       "      <td>152</td>\n",
       "      <td>133</td>\n",
       "    </tr>\n",
       "    <tr>\n",
       "      <th>10</th>\n",
       "      <td>11</td>\n",
       "      <td>108</td>\n",
       "      <td>103</td>\n",
       "    </tr>\n",
       "    <tr>\n",
       "      <th>11</th>\n",
       "      <td>12</td>\n",
       "      <td>97</td>\n",
       "      <td>108</td>\n",
       "    </tr>\n",
       "  </tbody>\n",
       "</table>\n",
       "</div>"
      ],
      "text/plain": [
       "    Order_Number  Barry_Price  Mary_Price\n",
       "0              1          126         114\n",
       "1              2          110         118\n",
       "2              3          138         114\n",
       "3              4          142         111\n",
       "4              5          146         129\n",
       "5              6          136         119\n",
       "6              7           94          97\n",
       "7              8          103         104\n",
       "8              9          140         127\n",
       "9             10          152         133\n",
       "10            11          108         103\n",
       "11            12           97         108"
      ]
     },
     "execution_count": 324,
     "metadata": {},
     "output_type": "execute_result"
    }
   ],
   "source": [
    "price_quotes_data"
   ]
  },
  {
   "cell_type": "code",
   "execution_count": 325,
   "id": "03211b5f",
   "metadata": {
    "scrolled": true
   },
   "outputs": [
    {
     "name": "stdout",
     "output_type": "stream",
     "text": [
      "<class 'pandas.core.frame.DataFrame'>\n",
      "RangeIndex: 12 entries, 0 to 11\n",
      "Data columns (total 3 columns):\n",
      " #   Column        Non-Null Count  Dtype\n",
      "---  ------        --------------  -----\n",
      " 0   Order_Number  12 non-null     int64\n",
      " 1   Barry_Price   12 non-null     int64\n",
      " 2   Mary_Price    12 non-null     int64\n",
      "dtypes: int64(3)\n",
      "memory usage: 416.0 bytes\n"
     ]
    }
   ],
   "source": [
    "price_quotes_data.info()"
   ]
  },
  {
   "cell_type": "raw",
   "id": "9011a509",
   "metadata": {},
   "source": [
    "Since the data is clean we can proceed doing hypothesis testing."
   ]
  },
  {
   "cell_type": "code",
   "execution_count": 326,
   "id": "f06b2545",
   "metadata": {},
   "outputs": [
    {
     "name": "stdout",
     "output_type": "stream",
     "text": [
      "mean price quoted by Barry : 124.33 | mean price quoted by Mary: 114.75\n"
     ]
    }
   ],
   "source": [
    "print( 'mean price quoted by Barry :', round(price_quotes_data.Barry_Price.mean(),2), '| mean price quoted by Mary:', round(price_quotes_data.Mary_Price.mean(),2))"
   ]
  },
  {
   "cell_type": "raw",
   "id": "e334d245",
   "metadata": {},
   "source": [
    "H0 - There is no difference in the prices quoted by Barry and Mary.(u1=u2)\n",
    "Ha - There is a difference/varibility in the prices quoted by Barry and Mary.(u1!=u2)\n",
    "\n",
    "CI - 95%\n",
    "p - 0.05"
   ]
  },
  {
   "cell_type": "code",
   "execution_count": 662,
   "id": "cd021e66",
   "metadata": {},
   "outputs": [
    {
     "data": {
      "text/plain": [
       "Ttest_indResult(statistic=1.4147436739281787, pvalue=0.08557113066059142)"
      ]
     },
     "execution_count": 662,
     "metadata": {},
     "output_type": "execute_result"
    }
   ],
   "source": [
    "# performing t test for independent samples since Barry's quoted prices don't depend on Mary's quoted prices. \n",
    "\n",
    "stats.ttest_ind(price_quotes_data.Barry_Price, price_quotes_data.Mary_Price)"
   ]
  },
  {
   "cell_type": "code",
   "execution_count": 669,
   "id": "84cd3ebb",
   "metadata": {},
   "outputs": [
    {
     "data": {
      "text/plain": [
       "0.17114226132118285"
      ]
     },
     "execution_count": 669,
     "metadata": {},
     "output_type": "execute_result"
    }
   ],
   "source": [
    "# p-value of the test\n",
    "\n",
    "pvalue_2= stats.ttest_ind(price_quotes_data.Barry_Price, price_quotes_data.Mary_Price).pvalue\n",
    "pvalue_2"
   ]
  },
  {
   "cell_type": "code",
   "execution_count": 670,
   "id": "bd391125",
   "metadata": {},
   "outputs": [
    {
     "name": "stdout",
     "output_type": "stream",
     "text": [
      "We fail to reject null hypothesis\n"
     ]
    }
   ],
   "source": [
    "# Checking if p value is greater than or less than 0.05.\n",
    "\n",
    "if(pvalue_2<0.05):\n",
    "    print('We reject null hypothesis')\n",
    "else:\n",
    "    print('We fail to reject null hypothesis')"
   ]
  },
  {
   "cell_type": "raw",
   "id": "d850f6dc",
   "metadata": {},
   "source": [
    "Business conclusion: The prices quoted by Barry and Mary( randomly picked up two quoting experts) are similar."
   ]
  },
  {
   "cell_type": "markdown",
   "id": "b1616aeb",
   "metadata": {},
   "source": [
    "### BUSINESS PROBLEM-3:\n",
    "### BACKGROUND:\n",
    "#### The New Life Residential Treatment Facility is a NGO that treats teenagers whohave shown signs of mental illness. It provides housing and supervision of teenagers who aremaking the transition from psychiatric hospitals back into the community. Because many of the teenagers were severely abused as children and have been involved with the juvenilejustice system, behavioral problems are common at New Life. Employee pay is low and staffturnover (attrition) is high. A reengineering program wasinstituted at New Life with the goals of lowering behavioral problems of the kids and decreasing employee turnover rates. As a part of this effort, the following changes were made:\n",
    "#### * Employee shifts were shortened from 10 hours to 8 hours each day.\n",
    "#### * Employees were motivated to become more involved in patient treatments. This included encouraging staff to run varioustherapeutic treatment sessions and allowing staff to have more say in program changes.\n",
    "#### * The activities budget wasincreased.\n",
    "#### * A facility-wide performance evaluation system was putinto place that rewarded staff participation andinnovation.\n",
    "#### * Management and staff instituted a program designed to raise expectations about appropriate behavior from the kids. This included strict compliance with reporting of behavioral violations, insistence on participation in therapeutic sessions, and a lowered tolerance for even moderate behavioralinfractions.\n",
    "\n",
    "#### To determine the effectiveness of the reengineering effort, a data set comprised of pre- and post-reengineering periods was compiled. The information contains two measures of behavioral problems. A critical incident occurs when a resident goes AWOL (leavesthe premises without permission), destroys property (e.g., punching a hole in a wall or throwing furniture through windows), is caught in possession of street drugs, or engages in assault against other residents or staff members. A teenager istemporarily removed from the facility when s/he is sent to jail or back to a psychiatric hospital\n",
    "\n",
    "### BUSINESS PROBLEM: \n",
    "#### We will focus on the prioritization system. If the system is working, then high priority jobs, on average, should be completed more quickly than medium priority jobs, and medium priority jobs should be completed more quickly than low priority jobs. Use the data provided to determine whether thisis, in fact, occurring."
   ]
  },
  {
   "cell_type": "code",
   "execution_count": 330,
   "id": "1fb38145",
   "metadata": {},
   "outputs": [],
   "source": [
    "treatment_facility_data= pd.read_csv(file_path+'/Treatment_Facility.csv')"
   ]
  },
  {
   "cell_type": "code",
   "execution_count": 331,
   "id": "d8f6a315",
   "metadata": {},
   "outputs": [
    {
     "data": {
      "text/html": [
       "<div>\n",
       "<style scoped>\n",
       "    .dataframe tbody tr th:only-of-type {\n",
       "        vertical-align: middle;\n",
       "    }\n",
       "\n",
       "    .dataframe tbody tr th {\n",
       "        vertical-align: top;\n",
       "    }\n",
       "\n",
       "    .dataframe thead th {\n",
       "        text-align: right;\n",
       "    }\n",
       "</style>\n",
       "<table border=\"1\" class=\"dataframe\">\n",
       "  <thead>\n",
       "    <tr style=\"text-align: right;\">\n",
       "      <th></th>\n",
       "      <th>Month</th>\n",
       "      <th>Reengineer</th>\n",
       "      <th>Employee_Turnover</th>\n",
       "      <th>VAR4</th>\n",
       "      <th>VAR5</th>\n",
       "    </tr>\n",
       "  </thead>\n",
       "  <tbody>\n",
       "    <tr>\n",
       "      <th>0</th>\n",
       "      <td>1</td>\n",
       "      <td>Prior</td>\n",
       "      <td>0.0000</td>\n",
       "      <td>24.390244</td>\n",
       "      <td>42.682927</td>\n",
       "    </tr>\n",
       "    <tr>\n",
       "      <th>1</th>\n",
       "      <td>2</td>\n",
       "      <td>Prior</td>\n",
       "      <td>6.0606</td>\n",
       "      <td>19.354839</td>\n",
       "      <td>25.806452</td>\n",
       "    </tr>\n",
       "    <tr>\n",
       "      <th>2</th>\n",
       "      <td>3</td>\n",
       "      <td>Prior</td>\n",
       "      <td>12.1212</td>\n",
       "      <td>35.087719</td>\n",
       "      <td>146.198830</td>\n",
       "    </tr>\n",
       "    <tr>\n",
       "      <th>3</th>\n",
       "      <td>4</td>\n",
       "      <td>Prior</td>\n",
       "      <td>3.3333</td>\n",
       "      <td>18.404908</td>\n",
       "      <td>110.429448</td>\n",
       "    </tr>\n",
       "    <tr>\n",
       "      <th>4</th>\n",
       "      <td>5</td>\n",
       "      <td>Prior</td>\n",
       "      <td>12.9032</td>\n",
       "      <td>17.964072</td>\n",
       "      <td>23.952096</td>\n",
       "    </tr>\n",
       "  </tbody>\n",
       "</table>\n",
       "</div>"
      ],
      "text/plain": [
       "   Month Reengineer  Employee_Turnover       VAR4        VAR5\n",
       "0      1      Prior             0.0000  24.390244   42.682927\n",
       "1      2      Prior             6.0606  19.354839   25.806452\n",
       "2      3      Prior            12.1212  35.087719  146.198830\n",
       "3      4      Prior             3.3333  18.404908  110.429448\n",
       "4      5      Prior            12.9032  17.964072   23.952096"
      ]
     },
     "execution_count": 331,
     "metadata": {},
     "output_type": "execute_result"
    }
   ],
   "source": [
    "treatment_facility_data.head()"
   ]
  },
  {
   "cell_type": "raw",
   "id": "94a27d4e",
   "metadata": {},
   "source": [
    "TRFF(%): The percentage of residents who were temporarily removed from\n",
    "the facility, out of the total number of residents\n",
    "\n",
    "CI (%): The percentage of critical incident reports written that month, out of\n",
    "the total number of residents"
   ]
  },
  {
   "cell_type": "code",
   "execution_count": 332,
   "id": "d37ca8db",
   "metadata": {},
   "outputs": [],
   "source": [
    "# Renaming VAR4 and  VAR5\n",
    "\n",
    "treatment_facility_data.rename(columns = {'VAR4':'TFFR', 'VAR5':'CI'}, inplace = True)"
   ]
  },
  {
   "cell_type": "code",
   "execution_count": 333,
   "id": "45111dfd",
   "metadata": {},
   "outputs": [
    {
     "name": "stdout",
     "output_type": "stream",
     "text": [
      "<class 'pandas.core.frame.DataFrame'>\n",
      "RangeIndex: 20 entries, 0 to 19\n",
      "Data columns (total 5 columns):\n",
      " #   Column             Non-Null Count  Dtype  \n",
      "---  ------             --------------  -----  \n",
      " 0   Month              20 non-null     int64  \n",
      " 1   Reengineer         20 non-null     object \n",
      " 2   Employee_Turnover  20 non-null     float64\n",
      " 3   TFFR               20 non-null     float64\n",
      " 4   CI                 20 non-null     float64\n",
      "dtypes: float64(3), int64(1), object(1)\n",
      "memory usage: 928.0+ bytes\n"
     ]
    }
   ],
   "source": [
    "treatment_facility_data.info()"
   ]
  },
  {
   "cell_type": "code",
   "execution_count": 334,
   "id": "9d8678ad",
   "metadata": {},
   "outputs": [
    {
     "data": {
      "text/html": [
       "<div>\n",
       "<style scoped>\n",
       "    .dataframe tbody tr th:only-of-type {\n",
       "        vertical-align: middle;\n",
       "    }\n",
       "\n",
       "    .dataframe tbody tr th {\n",
       "        vertical-align: top;\n",
       "    }\n",
       "\n",
       "    .dataframe thead tr th {\n",
       "        text-align: left;\n",
       "    }\n",
       "\n",
       "    .dataframe thead tr:last-of-type th {\n",
       "        text-align: right;\n",
       "    }\n",
       "</style>\n",
       "<table border=\"1\" class=\"dataframe\">\n",
       "  <thead>\n",
       "    <tr>\n",
       "      <th></th>\n",
       "      <th>mean</th>\n",
       "      <th>std</th>\n",
       "    </tr>\n",
       "    <tr>\n",
       "      <th></th>\n",
       "      <th>Employee_Turnover</th>\n",
       "      <th>Employee_Turnover</th>\n",
       "    </tr>\n",
       "    <tr>\n",
       "      <th>Reengineer</th>\n",
       "      <th></th>\n",
       "      <th></th>\n",
       "    </tr>\n",
       "  </thead>\n",
       "  <tbody>\n",
       "    <tr>\n",
       "      <th>Post</th>\n",
       "      <td>18.689129</td>\n",
       "      <td>10.555509</td>\n",
       "    </tr>\n",
       "    <tr>\n",
       "      <th>Prior</th>\n",
       "      <td>11.735692</td>\n",
       "      <td>7.041651</td>\n",
       "    </tr>\n",
       "  </tbody>\n",
       "</table>\n",
       "</div>"
      ],
      "text/plain": [
       "                        mean               std\n",
       "           Employee_Turnover Employee_Turnover\n",
       "Reengineer                                    \n",
       "Post               18.689129         10.555509\n",
       "Prior              11.735692          7.041651"
      ]
     },
     "execution_count": 334,
     "metadata": {},
     "output_type": "execute_result"
    }
   ],
   "source": [
    "treatment_facility_data[['Reengineer','Employee_Turnover']].pivot_table(index='Reengineer', aggfunc=['mean','std'])"
   ]
  },
  {
   "cell_type": "code",
   "execution_count": 335,
   "id": "04372ee6",
   "metadata": {},
   "outputs": [
    {
     "data": {
      "text/plain": [
       "2.247032570079068"
      ]
     },
     "execution_count": 335,
     "metadata": {},
     "output_type": "execute_result"
    }
   ],
   "source": [
    "# Calculating the ratio of the larger sample variance to the smaller sample variance. \n",
    "\n",
    "(10.555509/7.041651)**2"
   ]
  },
  {
   "cell_type": "raw",
   "id": "2a1c34d6",
   "metadata": {},
   "source": [
    "The ratio of the larger sample variance to the smaller sample variance is less than 4 therefore we can assume the variances of the two samples to be equal and perform t test with equal variance condition as true. "
   ]
  },
  {
   "cell_type": "raw",
   "id": "ddda2a6f",
   "metadata": {},
   "source": [
    "H0 - There is no difference in employee turnover before and after reengineereing.\n",
    "Ha - There is a difference/varibility in employee turnover before and after reengineering. \n",
    "\n",
    "CI - 95%\n",
    "p - 0.05"
   ]
  },
  {
   "cell_type": "code",
   "execution_count": 336,
   "id": "9f03ca7d",
   "metadata": {},
   "outputs": [
    {
     "data": {
      "text/plain": [
       "0      0.0000\n",
       "1      6.0606\n",
       "2     12.1212\n",
       "3      3.3333\n",
       "4     12.9032\n",
       "5      9.6774\n",
       "6     11.7647\n",
       "7     11.4286\n",
       "8     23.0769\n",
       "9     15.0000\n",
       "10    10.0000\n",
       "11    26.0870\n",
       "12    11.1111\n",
       "Name: Employee_Turnover, dtype: float64"
      ]
     },
     "execution_count": 336,
     "metadata": {},
     "output_type": "execute_result"
    }
   ],
   "source": [
    "s1=treatment_facility_data[treatment_facility_data.Reengineer=='Prior']['Employee_Turnover']\n",
    "s1"
   ]
  },
  {
   "cell_type": "code",
   "execution_count": 337,
   "id": "2d141c3f",
   "metadata": {},
   "outputs": [
    {
     "data": {
      "text/plain": [
       "13    26.6667\n",
       "14    17.9487\n",
       "15    12.8205\n",
       "16    15.7895\n",
       "17     0.0000\n",
       "18    30.7692\n",
       "19    26.8293\n",
       "Name: Employee_Turnover, dtype: float64"
      ]
     },
     "execution_count": 337,
     "metadata": {},
     "output_type": "execute_result"
    }
   ],
   "source": [
    "s2=treatment_facility_data[treatment_facility_data.Reengineer=='Post']['Employee_Turnover']\n",
    "s2"
   ]
  },
  {
   "cell_type": "code",
   "execution_count": 338,
   "id": "b6506576",
   "metadata": {},
   "outputs": [
    {
     "data": {
      "text/plain": [
       "Ttest_indResult(statistic=-1.770306704753604, pvalue=0.09361109345535304)"
      ]
     },
     "execution_count": 338,
     "metadata": {},
     "output_type": "execute_result"
    }
   ],
   "source": [
    "stats.ttest_ind(s1,s2,equal_var=True)"
   ]
  },
  {
   "cell_type": "code",
   "execution_count": 339,
   "id": "56b30910",
   "metadata": {},
   "outputs": [
    {
     "data": {
      "text/plain": [
       "0.09361109345535304"
      ]
     },
     "execution_count": 339,
     "metadata": {},
     "output_type": "execute_result"
    }
   ],
   "source": [
    "pvalue_3= stats.ttest_ind(s1,s2,equal_var=True).pvalue\n",
    "pvalue_3"
   ]
  },
  {
   "cell_type": "code",
   "execution_count": 340,
   "id": "ce008aad",
   "metadata": {},
   "outputs": [
    {
     "name": "stdout",
     "output_type": "stream",
     "text": [
      "We fail to reject null hypothesis\n"
     ]
    }
   ],
   "source": [
    "# Checking if p value is greater than or less than 0.05.\n",
    "\n",
    "if(pvalue_3<0.05):\n",
    "    print('We reject null hypothesis')\n",
    "else:\n",
    "    print('We fail to reject null hypothesis')"
   ]
  },
  {
   "cell_type": "raw",
   "id": "e99e21cb",
   "metadata": {},
   "source": [
    "Business conclusion: The employee turnover rates  are not significantly different before and after reengineering."
   ]
  },
  {
   "cell_type": "markdown",
   "id": "16327b08",
   "metadata": {},
   "source": [
    "### Testing the effect of reengineering on critical incidents percentage."
   ]
  },
  {
   "cell_type": "raw",
   "id": "3a8d67ed",
   "metadata": {},
   "source": [
    "H0 - There is no difference in critical incidents percentage before and after reengineereing. (u1=u2)\n",
    "Ha - There is a difference/varibility in critical incidents percentage before and after reengineering.(u1!=u2)  \n",
    "\n",
    "CI - 95%\n",
    "p - 0.05"
   ]
  },
  {
   "cell_type": "code",
   "execution_count": 341,
   "id": "5363a068",
   "metadata": {},
   "outputs": [
    {
     "data": {
      "text/html": [
       "<div>\n",
       "<style scoped>\n",
       "    .dataframe tbody tr th:only-of-type {\n",
       "        vertical-align: middle;\n",
       "    }\n",
       "\n",
       "    .dataframe tbody tr th {\n",
       "        vertical-align: top;\n",
       "    }\n",
       "\n",
       "    .dataframe thead tr th {\n",
       "        text-align: left;\n",
       "    }\n",
       "\n",
       "    .dataframe thead tr:last-of-type th {\n",
       "        text-align: right;\n",
       "    }\n",
       "</style>\n",
       "<table border=\"1\" class=\"dataframe\">\n",
       "  <thead>\n",
       "    <tr>\n",
       "      <th></th>\n",
       "      <th>mean</th>\n",
       "      <th>std</th>\n",
       "    </tr>\n",
       "    <tr>\n",
       "      <th></th>\n",
       "      <th>CI</th>\n",
       "      <th>CI</th>\n",
       "    </tr>\n",
       "    <tr>\n",
       "      <th>Reengineer</th>\n",
       "      <th></th>\n",
       "      <th></th>\n",
       "    </tr>\n",
       "  </thead>\n",
       "  <tbody>\n",
       "    <tr>\n",
       "      <th>Post</th>\n",
       "      <td>23.349719</td>\n",
       "      <td>7.808181</td>\n",
       "    </tr>\n",
       "    <tr>\n",
       "      <th>Prior</th>\n",
       "      <td>53.887906</td>\n",
       "      <td>48.695547</td>\n",
       "    </tr>\n",
       "  </tbody>\n",
       "</table>\n",
       "</div>"
      ],
      "text/plain": [
       "                 mean        std\n",
       "                   CI         CI\n",
       "Reengineer                      \n",
       "Post        23.349719   7.808181\n",
       "Prior       53.887906  48.695547"
      ]
     },
     "execution_count": 341,
     "metadata": {},
     "output_type": "execute_result"
    }
   ],
   "source": [
    "treatment_facility_data[['Reengineer','CI']].pivot_table(index='Reengineer', aggfunc=['mean','std'])"
   ]
  },
  {
   "cell_type": "raw",
   "id": "472fb442",
   "metadata": {},
   "source": [
    "Since the data suggests u2<u1  i.e. (23.349719 < 53.887906), we can take the alternate hypothesis to be u1<u2. "
   ]
  },
  {
   "cell_type": "code",
   "execution_count": 342,
   "id": "62afe5e0",
   "metadata": {},
   "outputs": [
    {
     "data": {
      "text/plain": [
       "38.893654607280695"
      ]
     },
     "execution_count": 342,
     "metadata": {},
     "output_type": "execute_result"
    }
   ],
   "source": [
    "# Calculating the ratio of the larger sample variance to the smaller sample variance. \n",
    "\n",
    "(48.695547/7.808181)**2"
   ]
  },
  {
   "cell_type": "raw",
   "id": "59cb22c2",
   "metadata": {},
   "source": [
    "The ratio of the larger sample variance to the smaller sample variance is greater than 4 therefore we cannot assume the variances of the two samples to be equal and perform will perform t test with equal variance condition as false and conduct Welch's test. "
   ]
  },
  {
   "cell_type": "code",
   "execution_count": 343,
   "id": "5f51dc4a",
   "metadata": {},
   "outputs": [
    {
     "data": {
      "text/plain": [
       "0      42.682927\n",
       "1      25.806452\n",
       "2     146.198830\n",
       "3     110.429448\n",
       "4      23.952096\n",
       "5      47.058824\n",
       "6       0.000000\n",
       "7      25.000000\n",
       "8     132.183908\n",
       "9      16.574586\n",
       "10     88.757396\n",
       "11     31.746032\n",
       "12     10.152284\n",
       "Name: CI, dtype: float64"
      ]
     },
     "execution_count": 343,
     "metadata": {},
     "output_type": "execute_result"
    }
   ],
   "source": [
    "# creating two samples\n",
    "\n",
    "s1_ci=treatment_facility_data[treatment_facility_data.Reengineer=='Prior']['CI']\n",
    "s1_ci"
   ]
  },
  {
   "cell_type": "code",
   "execution_count": 344,
   "id": "21a1e381",
   "metadata": {},
   "outputs": [
    {
     "data": {
      "text/plain": [
       "13    29.126214\n",
       "14    21.008403\n",
       "15    34.782609\n",
       "16    19.900498\n",
       "17     9.950249\n",
       "18    25.531915\n",
       "19    23.148148\n",
       "Name: CI, dtype: float64"
      ]
     },
     "execution_count": 344,
     "metadata": {},
     "output_type": "execute_result"
    }
   ],
   "source": [
    "s2_ci=treatment_facility_data[treatment_facility_data.Reengineer=='Post']['CI']\n",
    "s2_ci"
   ]
  },
  {
   "cell_type": "code",
   "execution_count": 345,
   "id": "5c19a6e1",
   "metadata": {},
   "outputs": [
    {
     "data": {
      "text/plain": [
       "Ttest_indResult(statistic=2.209006531430452, pvalue=0.045565519570193176)"
      ]
     },
     "execution_count": 345,
     "metadata": {},
     "output_type": "execute_result"
    }
   ],
   "source": [
    "# performing two sample t test on it\n",
    "\n",
    "stats.ttest_ind(s1_ci,s2_ci,equal_var=False)"
   ]
  },
  {
   "cell_type": "code",
   "execution_count": 346,
   "id": "89e34d7a",
   "metadata": {},
   "outputs": [
    {
     "data": {
      "text/plain": [
       "0.045565519570193176"
      ]
     },
     "execution_count": 346,
     "metadata": {},
     "output_type": "execute_result"
    }
   ],
   "source": [
    "pvalue_3_ci= stats.ttest_ind(s1_ci,s2_ci,equal_var=False).pvalue\n",
    "pvalue_3_ci"
   ]
  },
  {
   "cell_type": "code",
   "execution_count": 347,
   "id": "7a2d08b4",
   "metadata": {},
   "outputs": [
    {
     "name": "stdout",
     "output_type": "stream",
     "text": [
      "We reject null hypothesis\n"
     ]
    }
   ],
   "source": [
    "# Checking if p value is greater than or less than 0.05.\n",
    "\n",
    "if(pvalue_3_ci<0.05):\n",
    "    print('We reject null hypothesis')\n",
    "else:\n",
    "    print('We fail to reject null hypothesis')"
   ]
  },
  {
   "cell_type": "raw",
   "id": "b26853b9",
   "metadata": {},
   "source": [
    "Business conclusion: There has been a statistically significant drop in the critical incidents percentge at the 0.05\n",
    "significance level after reengineering. "
   ]
  },
  {
   "cell_type": "markdown",
   "id": "c498ecf1",
   "metadata": {},
   "source": [
    "### BUSINESS PROBLEM-4\n",
    "### BACKGROUND: \n",
    "#### Software development projects typically follow six basic phases: Requirements, design, implementation (and integration), testing (validation), deployment (installation) and maintenance. First, general requirements are gathered, and the scope of the functionality is defined. Then, alternative scenarios for the required functionality are developed and evaluated. Implementation, usually 50% or more of the development time, is the phase in which the design istranslated into programs and integrated with other parts of the software – this is when software engineers actually develop the code. During the final phases, programs are tested, software is put into use, and faults or performance issues are addressed. ApDudes, a developer of applicationsfor tablet computers, was having difficulty meeting project deadlines; only 10% of their projects had been completed within budget and on time last year and that wasstarting to hurt business. The group’s project manager wastasked with studying problems within the implementation phase. He found thatsoftware engineers were having difficulty prioritizing their work, and that they often became overwhelmed by the magnitude of the projects. As a result, two changes were made. Each project was broken down into smaller, distinct tasks, or jobs, and each job was assigned a priority. The project manager believes that this classification and prioritization system would speed the completion of high priority jobs, and thuslower overall project completion time\n",
    "### BUSINESS PROBLEM: \n",
    "#### We will focus on the prioritization system. If the system is working, then high priority jobs, on average, should be completed more quickly than medium priority jobs, and medium priority jobs should be completed more quickly than low priority jobs. Use the data provided to determine whether thisis, in fact, occurring"
   ]
  },
  {
   "cell_type": "code",
   "execution_count": 348,
   "id": "bce703bb",
   "metadata": {},
   "outputs": [],
   "source": [
    "priority_assessment_data= pd.read_csv(file_path+'/Priority_Assessment.csv')"
   ]
  },
  {
   "cell_type": "code",
   "execution_count": 349,
   "id": "b0a97a11",
   "metadata": {},
   "outputs": [
    {
     "data": {
      "text/html": [
       "<div>\n",
       "<style scoped>\n",
       "    .dataframe tbody tr th:only-of-type {\n",
       "        vertical-align: middle;\n",
       "    }\n",
       "\n",
       "    .dataframe tbody tr th {\n",
       "        vertical-align: top;\n",
       "    }\n",
       "\n",
       "    .dataframe thead th {\n",
       "        text-align: right;\n",
       "    }\n",
       "</style>\n",
       "<table border=\"1\" class=\"dataframe\">\n",
       "  <thead>\n",
       "    <tr style=\"text-align: right;\">\n",
       "      <th></th>\n",
       "      <th>Days</th>\n",
       "      <th>Priority</th>\n",
       "    </tr>\n",
       "  </thead>\n",
       "  <tbody>\n",
       "    <tr>\n",
       "      <th>0</th>\n",
       "      <td>3.3</td>\n",
       "      <td>High</td>\n",
       "    </tr>\n",
       "    <tr>\n",
       "      <th>1</th>\n",
       "      <td>7.9</td>\n",
       "      <td>Medium</td>\n",
       "    </tr>\n",
       "    <tr>\n",
       "      <th>2</th>\n",
       "      <td>0.3</td>\n",
       "      <td>High</td>\n",
       "    </tr>\n",
       "    <tr>\n",
       "      <th>3</th>\n",
       "      <td>0.7</td>\n",
       "      <td>Medium</td>\n",
       "    </tr>\n",
       "    <tr>\n",
       "      <th>4</th>\n",
       "      <td>8.6</td>\n",
       "      <td>Medium</td>\n",
       "    </tr>\n",
       "    <tr>\n",
       "      <th>...</th>\n",
       "      <td>...</td>\n",
       "      <td>...</td>\n",
       "    </tr>\n",
       "    <tr>\n",
       "      <th>637</th>\n",
       "      <td>2.5</td>\n",
       "      <td>Low</td>\n",
       "    </tr>\n",
       "    <tr>\n",
       "      <th>638</th>\n",
       "      <td>0.3</td>\n",
       "      <td>High</td>\n",
       "    </tr>\n",
       "    <tr>\n",
       "      <th>639</th>\n",
       "      <td>0.3</td>\n",
       "      <td>Medium</td>\n",
       "    </tr>\n",
       "    <tr>\n",
       "      <th>640</th>\n",
       "      <td>1.3</td>\n",
       "      <td>Medium</td>\n",
       "    </tr>\n",
       "    <tr>\n",
       "      <th>641</th>\n",
       "      <td>0.5</td>\n",
       "      <td>High</td>\n",
       "    </tr>\n",
       "  </tbody>\n",
       "</table>\n",
       "<p>642 rows × 2 columns</p>\n",
       "</div>"
      ],
      "text/plain": [
       "     Days Priority\n",
       "0     3.3     High\n",
       "1     7.9   Medium\n",
       "2     0.3     High\n",
       "3     0.7   Medium\n",
       "4     8.6   Medium\n",
       "..    ...      ...\n",
       "637   2.5      Low\n",
       "638   0.3     High\n",
       "639   0.3   Medium\n",
       "640   1.3   Medium\n",
       "641   0.5     High\n",
       "\n",
       "[642 rows x 2 columns]"
      ]
     },
     "execution_count": 349,
     "metadata": {},
     "output_type": "execute_result"
    }
   ],
   "source": [
    "priority_assessment_data"
   ]
  },
  {
   "cell_type": "code",
   "execution_count": 350,
   "id": "493a1b92",
   "metadata": {},
   "outputs": [
    {
     "data": {
      "text/plain": [
       "Days        0\n",
       "Priority    0\n",
       "dtype: int64"
      ]
     },
     "execution_count": 350,
     "metadata": {},
     "output_type": "execute_result"
    }
   ],
   "source": [
    "#Checking for null values\n",
    "\n",
    "priority_assessment_data.isna().sum()"
   ]
  },
  {
   "cell_type": "raw",
   "id": "63f41c4c",
   "metadata": {},
   "source": [
    "Since there are no null values we can directly jump to testing our hypothesis."
   ]
  },
  {
   "cell_type": "code",
   "execution_count": 351,
   "id": "8abd28ce",
   "metadata": {},
   "outputs": [
    {
     "data": {
      "text/plain": [
       "array(['High', 'Medium', 'Low'], dtype=object)"
      ]
     },
     "execution_count": 351,
     "metadata": {},
     "output_type": "execute_result"
    }
   ],
   "source": [
    "priority_assessment_data.Priority.unique()"
   ]
  },
  {
   "cell_type": "code",
   "execution_count": 352,
   "id": "7882ceae",
   "metadata": {},
   "outputs": [
    {
     "data": {
      "text/plain": [
       "0      3.3\n",
       "2      0.3\n",
       "5      0.3\n",
       "6      0.3\n",
       "7      0.3\n",
       "      ... \n",
       "631    0.3\n",
       "632    1.0\n",
       "635    0.1\n",
       "638    0.3\n",
       "641    0.5\n",
       "Name: Days, Length: 326, dtype: float64"
      ]
     },
     "execution_count": 352,
     "metadata": {},
     "output_type": "execute_result"
    }
   ],
   "source": [
    "# creating data sets based on priorities\n",
    "\n",
    "s4_1= priority_assessment_data[priority_assessment_data.Priority=='High'].Days\n",
    "s4_1"
   ]
  },
  {
   "cell_type": "code",
   "execution_count": 353,
   "id": "3b8ec26a",
   "metadata": {},
   "outputs": [
    {
     "data": {
      "text/plain": [
       "1       7.9\n",
       "3       0.7\n",
       "4       8.6\n",
       "9      15.9\n",
       "11      0.3\n",
       "       ... \n",
       "633     2.0\n",
       "634     2.5\n",
       "636     0.1\n",
       "639     0.3\n",
       "640     1.3\n",
       "Name: Days, Length: 249, dtype: float64"
      ]
     },
     "execution_count": 353,
     "metadata": {},
     "output_type": "execute_result"
    }
   ],
   "source": [
    "s4_2= priority_assessment_data[priority_assessment_data.Priority=='Medium'].Days\n",
    "s4_2"
   ]
  },
  {
   "cell_type": "code",
   "execution_count": 354,
   "id": "523eadb2",
   "metadata": {},
   "outputs": [
    {
     "data": {
      "text/plain": [
       "14     23.2\n",
       "15      5.3\n",
       "20      4.6\n",
       "23      1.8\n",
       "26     17.0\n",
       "       ... \n",
       "609     0.5\n",
       "613     7.9\n",
       "620     0.3\n",
       "622     0.1\n",
       "637     2.5\n",
       "Name: Days, Length: 67, dtype: float64"
      ]
     },
     "execution_count": 354,
     "metadata": {},
     "output_type": "execute_result"
    }
   ],
   "source": [
    "s4_3= priority_assessment_data[priority_assessment_data.Priority=='Low'].Days\n",
    "s4_3"
   ]
  },
  {
   "cell_type": "raw",
   "id": "56647cf4",
   "metadata": {},
   "source": [
    "H0 - There is no difference in time taken to complete tasks with different priorities. (u1=u2=u3)\n",
    "Ha - There is a difference/varibility in time taken to complete tasks with different priorities.(u1!=u2!u3)\n",
    "\n",
    "CI - 95%\n",
    "p - 0.05"
   ]
  },
  {
   "cell_type": "code",
   "execution_count": 355,
   "id": "8aface32",
   "metadata": {},
   "outputs": [
    {
     "name": "stdout",
     "output_type": "stream",
     "text": [
      "Average time taken to finish \"High\" priority tasks (u1): 3.02\n",
      "Average time taken to finish \"Medium\" priority tasks (u2): 2.5\n",
      "Average time taken to finish \"Low\" priority tasks: (u3) 4.23\n"
     ]
    }
   ],
   "source": [
    "print( 'Average time taken to finish \"High\" priority tasks (u1):', round(s4_1.mean(),2))\n",
    "print( 'Average time taken to finish \"Medium\" priority tasks (u2):', round(s4_2.mean(),2))\n",
    "print( 'Average time taken to finish \"Low\" priority tasks: (u3)', round(s4_3.mean(),2))"
   ]
  },
  {
   "cell_type": "code",
   "execution_count": 356,
   "id": "1df9d0e6",
   "metadata": {},
   "outputs": [
    {
     "data": {
      "text/plain": [
       "F_onewayResult(statistic=1.812311010076072, pvalue=0.16411459461716182)"
      ]
     },
     "execution_count": 356,
     "metadata": {},
     "output_type": "execute_result"
    }
   ],
   "source": [
    "# Conducting f test \n",
    "\n",
    "stats.f_oneway(s4_1,s4_2,s4_3)"
   ]
  },
  {
   "cell_type": "code",
   "execution_count": 357,
   "id": "aeb1a29e",
   "metadata": {},
   "outputs": [
    {
     "data": {
      "text/plain": [
       "0.16411459461716182"
      ]
     },
     "execution_count": 357,
     "metadata": {},
     "output_type": "execute_result"
    }
   ],
   "source": [
    "pvalue_4= stats.f_oneway(s4_1,s4_2,s4_3).pvalue\n",
    "pvalue_4"
   ]
  },
  {
   "cell_type": "code",
   "execution_count": 358,
   "id": "efd39601",
   "metadata": {},
   "outputs": [
    {
     "name": "stdout",
     "output_type": "stream",
     "text": [
      "We fail to reject null hypothesis\n"
     ]
    }
   ],
   "source": [
    "# Checking if p value is greater than or less than 0.05.\n",
    "\n",
    "if(pvalue_4<0.05):\n",
    "    print('We reject null hypothesis')\n",
    "else:\n",
    "    print('We fail to reject null hypothesis')"
   ]
  },
  {
   "cell_type": "raw",
   "id": "1b5eeb75",
   "metadata": {},
   "source": [
    "Business conclusion: There is no significant difference in time taken to finish different priority tasks after introducing the prioritizatin system. "
   ]
  },
  {
   "cell_type": "markdown",
   "id": "8dae3183",
   "metadata": {},
   "source": [
    "### BUSINESS PROBLEM-5\n",
    "### BackGround: \n",
    "#### Film on the Rocksis a summer movie series held at the world-renowned Red Rocks Amphitheatre, which is situated on a hillside of the Rocky Mountains in Morrison, Colorado fifteen miles west of Denver. The film seriesfeatures classic films, and pre-show entertainment including bands and comedians. Among the features that have made Red Rocks an internationally-famous concertstage are sweeping views of Denver, outstanding acoustics, and cool, dry Colorado summers. The seriesis jointly promoted by the Denver Film Society (DFS) and the City and County of Denver’s Division of Theatres and Arenas(DT&A). It is marketed through various outlets including newspaper, radio, and the Red Rocks and Denver Film Society websites. Film on the Rocks patrons also benefit from corporate sponsorship. In return for on-site posters and banners at Red Rocks, and recognition in pre- show marketing materials, corporations donate funds that keep ticket priceslow. Although the Red Rocks Amphitheatre provides a cinematic experience unlike any other venue, there are tradeoffs. Red Rocks is a farther commute for most people than the local movie theater or movie rental store. Given the uphill walk to the amphitheatre from the parking lot, getting there can be challenging. And, as an outdoor venue, the viewing experience is dependent on the weather. Patron satisfaction with Red Rocks as the venue for the film series is critical to its success. But, the series promoters would also like to increase attendance at the film series, and are unsure how to do this. Promotersrecognize that they need a better understanding of the customer base, and of the current level of satisfaction. Knowing the demographics of those who attend the film series will help attract and expand corporate sponsorship. In addition, knowing which media outlets are most effective will provideinformation about how best to target future marketing campaigns. To this end, the promoters conducted surveys during a recent Film on the Rocks season. Questionnaires were handed out at the entrance. Volunteers walked through the crowd to remind people about the free soft drink given to those who returned the survey.\n",
    "\n",
    "### BUSINESS PROBLEM:\n",
    "#### Use the survey resultsto addressthe following questions\n",
    "####  What isthe overall level of customer satisfaction?\n",
    "####  What factors are linked to satisfaction?\n",
    "####  What is the demographic profile of Film on the Rocks patrons?\n",
    "####  In what media outlet(s) should the film series be advertised?"
   ]
  },
  {
   "cell_type": "code",
   "execution_count": 359,
   "id": "45db73f4",
   "metadata": {},
   "outputs": [],
   "source": [
    "films_data= pd.read_csv(file_path+\"/Films.csv\")"
   ]
  },
  {
   "cell_type": "code",
   "execution_count": 360,
   "id": "7f1ec866",
   "metadata": {},
   "outputs": [
    {
     "data": {
      "text/html": [
       "<div>\n",
       "<style scoped>\n",
       "    .dataframe tbody tr th:only-of-type {\n",
       "        vertical-align: middle;\n",
       "    }\n",
       "\n",
       "    .dataframe tbody tr th {\n",
       "        vertical-align: top;\n",
       "    }\n",
       "\n",
       "    .dataframe thead th {\n",
       "        text-align: right;\n",
       "    }\n",
       "</style>\n",
       "<table border=\"1\" class=\"dataframe\">\n",
       "  <thead>\n",
       "    <tr style=\"text-align: right;\">\n",
       "      <th></th>\n",
       "      <th>_rowstate_</th>\n",
       "      <th>Movie</th>\n",
       "      <th>Gender</th>\n",
       "      <th>Marital_Status</th>\n",
       "      <th>Sinage</th>\n",
       "      <th>Parking</th>\n",
       "      <th>Clean</th>\n",
       "      <th>Overall</th>\n",
       "      <th>Age</th>\n",
       "      <th>Income</th>\n",
       "      <th>Hear_About</th>\n",
       "    </tr>\n",
       "  </thead>\n",
       "  <tbody>\n",
       "    <tr>\n",
       "      <th>0</th>\n",
       "      <td>0</td>\n",
       "      <td>Ferris Buellers Day Off</td>\n",
       "      <td>Female</td>\n",
       "      <td>Married</td>\n",
       "      <td>2.0</td>\n",
       "      <td>2.0</td>\n",
       "      <td>2.0</td>\n",
       "      <td>2.0</td>\n",
       "      <td>3.0</td>\n",
       "      <td>1.0</td>\n",
       "      <td>5</td>\n",
       "    </tr>\n",
       "    <tr>\n",
       "      <th>1</th>\n",
       "      <td>0</td>\n",
       "      <td>Ferris Buellers Day Off</td>\n",
       "      <td>Female</td>\n",
       "      <td>Single</td>\n",
       "      <td>1.0</td>\n",
       "      <td>1.0</td>\n",
       "      <td>1.0</td>\n",
       "      <td>1.0</td>\n",
       "      <td>2.0</td>\n",
       "      <td>1.0</td>\n",
       "      <td>5</td>\n",
       "    </tr>\n",
       "    <tr>\n",
       "      <th>2</th>\n",
       "      <td>0</td>\n",
       "      <td>Ferris Buellers Day Off</td>\n",
       "      <td>Male</td>\n",
       "      <td>Married</td>\n",
       "      <td>2.0</td>\n",
       "      <td>4.0</td>\n",
       "      <td>3.0</td>\n",
       "      <td>2.0</td>\n",
       "      <td>4.0</td>\n",
       "      <td>1.0</td>\n",
       "      <td>5</td>\n",
       "    </tr>\n",
       "    <tr>\n",
       "      <th>3</th>\n",
       "      <td>0</td>\n",
       "      <td>Ferris Buellers Day Off</td>\n",
       "      <td>Female</td>\n",
       "      <td>Married</td>\n",
       "      <td>1.0</td>\n",
       "      <td>3.0</td>\n",
       "      <td>2.0</td>\n",
       "      <td>2.0</td>\n",
       "      <td>4.0</td>\n",
       "      <td>1.0</td>\n",
       "      <td>5</td>\n",
       "    </tr>\n",
       "    <tr>\n",
       "      <th>4</th>\n",
       "      <td>0</td>\n",
       "      <td>Ferris Buellers Day Off</td>\n",
       "      <td>Female</td>\n",
       "      <td>Married</td>\n",
       "      <td>1.0</td>\n",
       "      <td>1.0</td>\n",
       "      <td>1.0</td>\n",
       "      <td>1.0</td>\n",
       "      <td>3.0</td>\n",
       "      <td>3.0</td>\n",
       "      <td>1</td>\n",
       "    </tr>\n",
       "    <tr>\n",
       "      <th>...</th>\n",
       "      <td>...</td>\n",
       "      <td>...</td>\n",
       "      <td>...</td>\n",
       "      <td>...</td>\n",
       "      <td>...</td>\n",
       "      <td>...</td>\n",
       "      <td>...</td>\n",
       "      <td>...</td>\n",
       "      <td>...</td>\n",
       "      <td>...</td>\n",
       "      <td>...</td>\n",
       "    </tr>\n",
       "    <tr>\n",
       "      <th>325</th>\n",
       "      <td>0</td>\n",
       "      <td>Old School</td>\n",
       "      <td>2</td>\n",
       "      <td>2</td>\n",
       "      <td>1.0</td>\n",
       "      <td>2.0</td>\n",
       "      <td>1.0</td>\n",
       "      <td>1.0</td>\n",
       "      <td>2.0</td>\n",
       "      <td>1.0</td>\n",
       "      <td>1</td>\n",
       "    </tr>\n",
       "    <tr>\n",
       "      <th>326</th>\n",
       "      <td>0</td>\n",
       "      <td>Old School</td>\n",
       "      <td>1</td>\n",
       "      <td>1</td>\n",
       "      <td>2.0</td>\n",
       "      <td>2.0</td>\n",
       "      <td>2.0</td>\n",
       "      <td>2.0</td>\n",
       "      <td>3.0</td>\n",
       "      <td>3.0</td>\n",
       "      <td>5</td>\n",
       "    </tr>\n",
       "    <tr>\n",
       "      <th>327</th>\n",
       "      <td>0</td>\n",
       "      <td>Old School</td>\n",
       "      <td>2</td>\n",
       "      <td>1</td>\n",
       "      <td>2.0</td>\n",
       "      <td>1.0</td>\n",
       "      <td>1.0</td>\n",
       "      <td>2.0</td>\n",
       "      <td>2.0</td>\n",
       "      <td>2.0</td>\n",
       "      <td>5</td>\n",
       "    </tr>\n",
       "    <tr>\n",
       "      <th>328</th>\n",
       "      <td>0</td>\n",
       "      <td>Old School</td>\n",
       "      <td>1</td>\n",
       "      <td>1</td>\n",
       "      <td>1.0</td>\n",
       "      <td>1.0</td>\n",
       "      <td>1.0</td>\n",
       "      <td>1.0</td>\n",
       "      <td>2.0</td>\n",
       "      <td>1.0</td>\n",
       "      <td>3</td>\n",
       "    </tr>\n",
       "    <tr>\n",
       "      <th>329</th>\n",
       "      <td>0</td>\n",
       "      <td>Old School</td>\n",
       "      <td>2</td>\n",
       "      <td>2</td>\n",
       "      <td>2.0</td>\n",
       "      <td>2.0</td>\n",
       "      <td>3.0</td>\n",
       "      <td>1.0</td>\n",
       "      <td>2.0</td>\n",
       "      <td>1.0</td>\n",
       "      <td>5</td>\n",
       "    </tr>\n",
       "  </tbody>\n",
       "</table>\n",
       "<p>330 rows × 11 columns</p>\n",
       "</div>"
      ],
      "text/plain": [
       "     _rowstate_                    Movie  Gender Marital_Status  Sinage  \\\n",
       "0             0  Ferris Buellers Day Off  Female        Married     2.0   \n",
       "1             0  Ferris Buellers Day Off  Female         Single     1.0   \n",
       "2             0  Ferris Buellers Day Off    Male        Married     2.0   \n",
       "3             0  Ferris Buellers Day Off  Female        Married     1.0   \n",
       "4             0  Ferris Buellers Day Off  Female        Married     1.0   \n",
       "..          ...                      ...     ...            ...     ...   \n",
       "325           0               Old School       2              2     1.0   \n",
       "326           0               Old School       1              1     2.0   \n",
       "327           0               Old School       2              1     2.0   \n",
       "328           0               Old School       1              1     1.0   \n",
       "329           0               Old School       2              2     2.0   \n",
       "\n",
       "     Parking  Clean  Overall  Age  Income Hear_About  \n",
       "0        2.0    2.0      2.0  3.0     1.0          5  \n",
       "1        1.0    1.0      1.0  2.0     1.0          5  \n",
       "2        4.0    3.0      2.0  4.0     1.0          5  \n",
       "3        3.0    2.0      2.0  4.0     1.0          5  \n",
       "4        1.0    1.0      1.0  3.0     3.0          1  \n",
       "..       ...    ...      ...  ...     ...        ...  \n",
       "325      2.0    1.0      1.0  2.0     1.0          1  \n",
       "326      2.0    2.0      2.0  3.0     3.0          5  \n",
       "327      1.0    1.0      2.0  2.0     2.0          5  \n",
       "328      1.0    1.0      1.0  2.0     1.0          3  \n",
       "329      2.0    3.0      1.0  2.0     1.0          5  \n",
       "\n",
       "[330 rows x 11 columns]"
      ]
     },
     "execution_count": 360,
     "metadata": {},
     "output_type": "execute_result"
    }
   ],
   "source": [
    "films_data"
   ]
  },
  {
   "cell_type": "code",
   "execution_count": 361,
   "id": "09dc7bf3",
   "metadata": {},
   "outputs": [
    {
     "name": "stdout",
     "output_type": "stream",
     "text": [
      "<class 'pandas.core.frame.DataFrame'>\n",
      "RangeIndex: 330 entries, 0 to 329\n",
      "Data columns (total 11 columns):\n",
      " #   Column          Non-Null Count  Dtype  \n",
      "---  ------          --------------  -----  \n",
      " 0   _rowstate_      330 non-null    int64  \n",
      " 1   Movie           330 non-null    object \n",
      " 2   Gender          330 non-null    object \n",
      " 3   Marital_Status  328 non-null    object \n",
      " 4   Sinage          328 non-null    float64\n",
      " 5   Parking         328 non-null    float64\n",
      " 6   Clean           327 non-null    float64\n",
      " 7   Overall         328 non-null    float64\n",
      " 8   Age             328 non-null    float64\n",
      " 9   Income          314 non-null    float64\n",
      " 10  Hear_About      323 non-null    object \n",
      "dtypes: float64(6), int64(1), object(4)\n",
      "memory usage: 28.5+ KB\n"
     ]
    }
   ],
   "source": [
    "films_data.info()"
   ]
  },
  {
   "cell_type": "code",
   "execution_count": 362,
   "id": "30a2791e",
   "metadata": {},
   "outputs": [
    {
     "data": {
      "text/plain": [
       "2         194\n",
       "1         104\n",
       "Female     19\n",
       "Male       13\n",
       "Name: Gender, dtype: int64"
      ]
     },
     "execution_count": 362,
     "metadata": {},
     "output_type": "execute_result"
    }
   ],
   "source": [
    "films_data.Gender.value_counts()"
   ]
  },
  {
   "cell_type": "code",
   "execution_count": 363,
   "id": "e174b090",
   "metadata": {},
   "outputs": [],
   "source": [
    "# Replacing 1, 2 as Male and Female in the gender column.\n",
    "\n",
    "films_data.Gender.replace({'1':'Male','2': 'Female'}, inplace=True)"
   ]
  },
  {
   "cell_type": "code",
   "execution_count": 364,
   "id": "7cd76732",
   "metadata": {},
   "outputs": [
    {
     "data": {
      "text/plain": [
       "2          208\n",
       "1           88\n",
       "Single      18\n",
       "Married     12\n",
       "Slngle       2\n",
       "Name: Marital_Status, dtype: int64"
      ]
     },
     "execution_count": 364,
     "metadata": {},
     "output_type": "execute_result"
    }
   ],
   "source": [
    "films_data.Marital_Status.value_counts()"
   ]
  },
  {
   "cell_type": "code",
   "execution_count": 365,
   "id": "e5532de5",
   "metadata": {},
   "outputs": [],
   "source": [
    "# Replacing 1, 2 as Married and Single and correcting Single spelling error in the Marital status column.\n",
    "\n",
    "films_data.Marital_Status.replace({'1':'Married','2': 'Single','Slngle':'Single'}, inplace=True)"
   ]
  },
  {
   "cell_type": "code",
   "execution_count": 366,
   "id": "96cd0c9d",
   "metadata": {},
   "outputs": [
    {
     "data": {
      "text/plain": [
       "2.0    175\n",
       "3.0    117\n",
       "1.0     26\n",
       "4.0     10\n",
       "Name: Age, dtype: int64"
      ]
     },
     "execution_count": 366,
     "metadata": {},
     "output_type": "execute_result"
    }
   ],
   "source": [
    "films_data.Age.value_counts()"
   ]
  },
  {
   "cell_type": "code",
   "execution_count": 367,
   "id": "68997c30",
   "metadata": {},
   "outputs": [],
   "source": [
    "# Replacing 1.0-5.0 with their actual meanings in the Age column\n",
    "\n",
    "films_data.Age.replace({1.0:'1-12',2.0:'13-30',3.0:'31-60', 4.0:'60+'}, inplace=True)\n"
   ]
  },
  {
   "cell_type": "code",
   "execution_count": 368,
   "id": "42b98f67",
   "metadata": {},
   "outputs": [
    {
     "data": {
      "text/plain": [
       "1.0    142\n",
       "3.0     90\n",
       "2.0     82\n",
       "Name: Income, dtype: int64"
      ]
     },
     "execution_count": 368,
     "metadata": {},
     "output_type": "execute_result"
    }
   ],
   "source": [
    "films_data.Income.value_counts()"
   ]
  },
  {
   "cell_type": "code",
   "execution_count": 369,
   "id": "8d3236b9",
   "metadata": {},
   "outputs": [],
   "source": [
    "# Replacing 1.0-3.0 with their actual meanings in the Income column\n",
    "\n",
    "films_data.Income.replace({1.0:'Less than $50,000', 2.0:'$50000-$100,000',3.0:'$100,000+'}, inplace=True)\n"
   ]
  },
  {
   "cell_type": "code",
   "execution_count": 370,
   "id": "a0c16198",
   "metadata": {},
   "outputs": [
    {
     "data": {
      "text/plain": [
       "5      226\n",
       "4       41\n",
       "1       22\n",
       "3       14\n",
       "2       12\n",
       "2,5      2\n",
       "3,4      2\n",
       "4,5      1\n",
       "1,5      1\n",
       "5,4      1\n",
       "3,5      1\n",
       "Name: Hear_About, dtype: int64"
      ]
     },
     "execution_count": 370,
     "metadata": {},
     "output_type": "execute_result"
    }
   ],
   "source": [
    "films_data.Hear_About.value_counts()"
   ]
  },
  {
   "cell_type": "code",
   "execution_count": 653,
   "id": "77adfd3c",
   "metadata": {},
   "outputs": [
    {
     "data": {
      "text/plain": [
       "3.0"
      ]
     },
     "execution_count": 653,
     "metadata": {},
     "output_type": "execute_result"
    }
   ],
   "source": [
    "round((2+2+1+1+1+1)/films_data.shape[0],2)*100"
   ]
  },
  {
   "cell_type": "raw",
   "id": "80e16ec1",
   "metadata": {},
   "source": [
    "For the observations with 2 choices, they form 3 % of the data. Plus 6  out of 8 consist of word of mouth, so we can put all of these records to word of mouth category. "
   ]
  },
  {
   "cell_type": "code",
   "execution_count": 654,
   "id": "7126dd28",
   "metadata": {},
   "outputs": [],
   "source": [
    "# Replacing 1.0-5.0 with their actual meanings and with  in the hear about column\n",
    "\n",
    "films_data.Hear_About.replace({'1':'television', '2':'newspaper', '3':'radio', '4':'website', '5':'word of mouth', \n",
    "                        '2,5':'word of mouth', '3,4':'word of mouth',\n",
    "                       '4,5': 'word of mouth', '1,5': 'word of mouth', \n",
    "                       '5,4': 'word of mouth', \n",
    "                       '3,5': 'word of mouth'}, inplace=True)"
   ]
  },
  {
   "cell_type": "code",
   "execution_count": 655,
   "id": "8b4a2f7b",
   "metadata": {},
   "outputs": [
    {
     "name": "stdout",
     "output_type": "stream",
     "text": [
      "Good            135\n",
      "Excellent        89\n",
      "Average/Fair     44\n",
      "Poor              6\n",
      "Very Poor         5\n",
      "Name: Sinage, dtype: int64\n",
      "Good            129\n",
      "Excellent       111\n",
      "Average/Fair     28\n",
      "Poor              7\n",
      "Very Poor         4\n",
      "Name: Parking, dtype: int64\n",
      "Good            131\n",
      "Excellent       119\n",
      "Average/Fair     23\n",
      "Poor              4\n",
      "Very Poor         2\n",
      "Name: Clean, dtype: int64\n",
      "Good            134\n",
      "Excellent       128\n",
      "Average/Fair     12\n",
      "Very Poor         4\n",
      "Poor              1\n",
      "Name: Overall, dtype: int64\n"
     ]
    }
   ],
   "source": [
    "print(films_data.Sinage.value_counts())\n",
    "print(films_data.Parking.value_counts())\n",
    "print(films_data.Clean.value_counts())\n",
    "print(films_data.Overall.value_counts())"
   ]
  },
  {
   "cell_type": "code",
   "execution_count": 374,
   "id": "1590fbb0",
   "metadata": {},
   "outputs": [],
   "source": [
    "# Replacing 1.0-5.0 with their actual meanings in the Sinage, Parking, Clean, Overall columns of the data\n",
    "\n",
    "films_data['Sinage'].replace({1.0:'Excellent',2.0:'Good',3.0:'Average/Fair', 4.0:'Poor', 5.0:'Very Poor'}, inplace=True)\n",
    "films_data['Parking'].replace({1.0:'Excellent',2.0:'Good',3.0:'Average/Fair', 4.0:'Poor', 5.0:'Very Poor'}, inplace=True)\n",
    "films_data['Clean'].replace({1.0:'Excellent',2.0:'Good',3.0:'Average/Fair', 4.0:'Poor', 5.0:'Very Poor'}, inplace=True)\n",
    "films_data['Overall'].replace({1.0:'Excellent',2.0:'Good',3.0:'Average/Fair', 4.0:'Poor', 5.0:'Very Poor'}, inplace=True)"
   ]
  },
  {
   "cell_type": "code",
   "execution_count": 375,
   "id": "0d18e3d4",
   "metadata": {},
   "outputs": [],
   "source": [
    "# dropping duplicates, if any.\n",
    "\n",
    "films_data.drop_duplicates(inplace=True)"
   ]
  },
  {
   "cell_type": "code",
   "execution_count": 376,
   "id": "e204d195",
   "metadata": {},
   "outputs": [
    {
     "data": {
      "text/plain": [
       "_rowstate_         0\n",
       "Movie              0\n",
       "Gender             0\n",
       "Marital_Status     2\n",
       "Sinage             2\n",
       "Parking            2\n",
       "Clean              3\n",
       "Overall            2\n",
       "Age                2\n",
       "Income            14\n",
       "Hear_About         7\n",
       "dtype: int64"
      ]
     },
     "execution_count": 376,
     "metadata": {},
     "output_type": "execute_result"
    }
   ],
   "source": [
    "#checking for null values\n",
    "\n",
    "films_data.isna().sum()"
   ]
  },
  {
   "cell_type": "code",
   "execution_count": 377,
   "id": "c768b8a0",
   "metadata": {},
   "outputs": [],
   "source": [
    "# Since all the missing values are from categorical columns we can impute them with the mode of their respective columns.\n",
    "\n",
    "films_data.Marital_Status.fillna(films_data.Marital_Status.mode().item(), inplace=True)\n",
    "films_data.Sinage.fillna(films_data.Sinage.mode().item(), inplace=True)\n",
    "films_data.Parking.fillna(films_data.Parking.mode().item(), inplace=True)\n",
    "films_data.Clean.fillna(films_data.Clean.mode().item(), inplace=True)\n",
    "films_data.Overall.fillna(films_data.Overall.mode().item(), inplace=True)\n",
    "films_data.Age.fillna(films_data.Age.mode().item(), inplace=True)\n",
    "films_data.Income.fillna(films_data.Income.mode().item(), inplace=True)\n",
    "films_data.Hear_About.fillna(films_data.Hear_About.mode().item(), inplace=True)"
   ]
  },
  {
   "cell_type": "code",
   "execution_count": 378,
   "id": "545ffcc7",
   "metadata": {},
   "outputs": [
    {
     "data": {
      "text/plain": [
       "_rowstate_        0\n",
       "Movie             0\n",
       "Gender            0\n",
       "Marital_Status    0\n",
       "Sinage            0\n",
       "Parking           0\n",
       "Clean             0\n",
       "Overall           0\n",
       "Age               0\n",
       "Income            0\n",
       "Hear_About        0\n",
       "dtype: int64"
      ]
     },
     "execution_count": 378,
     "metadata": {},
     "output_type": "execute_result"
    }
   ],
   "source": [
    "#checking for null values after imputing\n",
    "\n",
    "films_data.isna().sum()"
   ]
  },
  {
   "cell_type": "raw",
   "id": "9206e8ab",
   "metadata": {},
   "source": [
    "From above we can see that there are no null values in our data."
   ]
  },
  {
   "cell_type": "markdown",
   "id": "edce1040",
   "metadata": {},
   "source": [
    "### 1.  What is the overall level of customer satisfaction?"
   ]
  },
  {
   "cell_type": "code",
   "execution_count": 379,
   "id": "c00667af",
   "metadata": {},
   "outputs": [
    {
     "data": {
      "text/plain": [
       "Good            134\n",
       "Excellent       128\n",
       "Average/Fair     12\n",
       "Very Poor         4\n",
       "Poor              1\n",
       "Name: Overall, dtype: int64"
      ]
     },
     "execution_count": 379,
     "metadata": {},
     "output_type": "execute_result"
    }
   ],
   "source": [
    "films_data.Overall.value_counts()"
   ]
  },
  {
   "cell_type": "raw",
   "id": "d89600f4",
   "metadata": {},
   "source": [
    "The Overall customer satisfaction according to the survey sample is Good."
   ]
  },
  {
   "cell_type": "markdown",
   "id": "1abdcc8a",
   "metadata": {},
   "source": [
    "### 2. What factors are linked to satisfaction?"
   ]
  },
  {
   "cell_type": "raw",
   "id": "984b9813",
   "metadata": {},
   "source": [
    "RELATIONSHIP BETWEEN OVERALL SATISFACTION AND SINAGE\n",
    "\n",
    "H0 - There is no relationship between overall satisfaction and sinage.\n",
    "Ha - There is a relationship between overall satisfaction and sinage.\n",
    "\n",
    "CI - 95%\n",
    "p - 0.05"
   ]
  },
  {
   "cell_type": "code",
   "execution_count": 380,
   "id": "39442b1f",
   "metadata": {},
   "outputs": [
    {
     "data": {
      "text/html": [
       "<div>\n",
       "<style scoped>\n",
       "    .dataframe tbody tr th:only-of-type {\n",
       "        vertical-align: middle;\n",
       "    }\n",
       "\n",
       "    .dataframe tbody tr th {\n",
       "        vertical-align: top;\n",
       "    }\n",
       "\n",
       "    .dataframe thead th {\n",
       "        text-align: right;\n",
       "    }\n",
       "</style>\n",
       "<table border=\"1\" class=\"dataframe\">\n",
       "  <thead>\n",
       "    <tr style=\"text-align: right;\">\n",
       "      <th>Sinage</th>\n",
       "      <th>Average/Fair</th>\n",
       "      <th>Excellent</th>\n",
       "      <th>Good</th>\n",
       "      <th>Poor</th>\n",
       "      <th>Very Poor</th>\n",
       "    </tr>\n",
       "    <tr>\n",
       "      <th>Overall</th>\n",
       "      <th></th>\n",
       "      <th></th>\n",
       "      <th></th>\n",
       "      <th></th>\n",
       "      <th></th>\n",
       "    </tr>\n",
       "  </thead>\n",
       "  <tbody>\n",
       "    <tr>\n",
       "      <th>Average/Fair</th>\n",
       "      <td>8</td>\n",
       "      <td>0</td>\n",
       "      <td>4</td>\n",
       "      <td>0</td>\n",
       "      <td>0</td>\n",
       "    </tr>\n",
       "    <tr>\n",
       "      <th>Excellent</th>\n",
       "      <td>12</td>\n",
       "      <td>69</td>\n",
       "      <td>43</td>\n",
       "      <td>2</td>\n",
       "      <td>2</td>\n",
       "    </tr>\n",
       "    <tr>\n",
       "      <th>Good</th>\n",
       "      <td>22</td>\n",
       "      <td>19</td>\n",
       "      <td>87</td>\n",
       "      <td>4</td>\n",
       "      <td>2</td>\n",
       "    </tr>\n",
       "    <tr>\n",
       "      <th>Poor</th>\n",
       "      <td>1</td>\n",
       "      <td>0</td>\n",
       "      <td>0</td>\n",
       "      <td>0</td>\n",
       "      <td>0</td>\n",
       "    </tr>\n",
       "    <tr>\n",
       "      <th>Very Poor</th>\n",
       "      <td>1</td>\n",
       "      <td>1</td>\n",
       "      <td>1</td>\n",
       "      <td>0</td>\n",
       "      <td>1</td>\n",
       "    </tr>\n",
       "  </tbody>\n",
       "</table>\n",
       "</div>"
      ],
      "text/plain": [
       "Sinage        Average/Fair  Excellent  Good  Poor  Very Poor\n",
       "Overall                                                     \n",
       "Average/Fair             8          0     4     0          0\n",
       "Excellent               12         69    43     2          2\n",
       "Good                    22         19    87     4          2\n",
       "Poor                     1          0     0     0          0\n",
       "Very Poor                1          1     1     0          1"
      ]
     },
     "execution_count": 380,
     "metadata": {},
     "output_type": "execute_result"
    }
   ],
   "source": [
    "# overall satisfaction and sinage relationship dataset\n",
    "\n",
    "s5_overall_sinage= pd.crosstab(index=films_data.Overall, columns=films_data.Sinage)\n",
    "s5_overall_sinage"
   ]
  },
  {
   "cell_type": "code",
   "execution_count": 381,
   "id": "516bd2f8",
   "metadata": {},
   "outputs": [
    {
     "data": {
      "text/plain": [
       "(92.8373735944469,\n",
       " 7.484878217839084e-13,\n",
       " 16,\n",
       " array([[1.89247312e+00, 3.82795699e+00, 5.80645161e+00, 2.58064516e-01,\n",
       "         2.15053763e-01],\n",
       "        [2.01863799e+01, 4.08315412e+01, 6.19354839e+01, 2.75268817e+00,\n",
       "         2.29390681e+00],\n",
       "        [2.11326165e+01, 4.27455197e+01, 6.48387097e+01, 2.88172043e+00,\n",
       "         2.40143369e+00],\n",
       "        [1.57706093e-01, 3.18996416e-01, 4.83870968e-01, 2.15053763e-02,\n",
       "         1.79211470e-02],\n",
       "        [6.30824373e-01, 1.27598566e+00, 1.93548387e+00, 8.60215054e-02,\n",
       "         7.16845878e-02]]))"
      ]
     },
     "execution_count": 381,
     "metadata": {},
     "output_type": "execute_result"
    }
   ],
   "source": [
    "# Perfoming the Chi square test to test the relationship of Overall satisfaction and sinage.\n",
    "\n",
    "stats.chi2_contingency(s5_overall_sinage)"
   ]
  },
  {
   "cell_type": "code",
   "execution_count": 382,
   "id": "64e87c51",
   "metadata": {},
   "outputs": [
    {
     "data": {
      "text/plain": [
       "7.484878217839084e-13"
      ]
     },
     "execution_count": 382,
     "metadata": {},
     "output_type": "execute_result"
    }
   ],
   "source": [
    "# Finding the p value of the test\n",
    "\n",
    "p5os=stats.chi2_contingency(s5_overall_sinage)[1]\n",
    "p5os"
   ]
  },
  {
   "cell_type": "code",
   "execution_count": 383,
   "id": "81d48cda",
   "metadata": {},
   "outputs": [
    {
     "name": "stdout",
     "output_type": "stream",
     "text": [
      "We reject null hypothesis\n"
     ]
    }
   ],
   "source": [
    "# Checking if p value is greater than or less than 0.05.\n",
    "\n",
    "if(p5os<0.05):\n",
    "    print('We reject null hypothesis')\n",
    "else:\n",
    "    print('We fail to reject null hypothesis')"
   ]
  },
  {
   "cell_type": "raw",
   "id": "50163222",
   "metadata": {},
   "source": [
    "Business conclusion: Sinage clarity influences the overall satisfaction of the customer with a confidence of 95%. "
   ]
  },
  {
   "cell_type": "raw",
   "id": "410222ee",
   "metadata": {},
   "source": [
    "RELATIONSHIP BETWEEN OVERALL SATISFACTION AND PARKING\n",
    "\n",
    "H0 - There is no relationship between overall satisfaction and parking.\n",
    "Ha - There is a relationship between overall satisfaction and parking.\n",
    "\n",
    "CI - 95%\n",
    "p - 0.05"
   ]
  },
  {
   "cell_type": "code",
   "execution_count": 384,
   "id": "f8ad37da",
   "metadata": {},
   "outputs": [
    {
     "data": {
      "text/html": [
       "<div>\n",
       "<style scoped>\n",
       "    .dataframe tbody tr th:only-of-type {\n",
       "        vertical-align: middle;\n",
       "    }\n",
       "\n",
       "    .dataframe tbody tr th {\n",
       "        vertical-align: top;\n",
       "    }\n",
       "\n",
       "    .dataframe thead th {\n",
       "        text-align: right;\n",
       "    }\n",
       "</style>\n",
       "<table border=\"1\" class=\"dataframe\">\n",
       "  <thead>\n",
       "    <tr style=\"text-align: right;\">\n",
       "      <th>Parking</th>\n",
       "      <th>Average/Fair</th>\n",
       "      <th>Excellent</th>\n",
       "      <th>Good</th>\n",
       "      <th>Poor</th>\n",
       "      <th>Very Poor</th>\n",
       "    </tr>\n",
       "    <tr>\n",
       "      <th>Overall</th>\n",
       "      <th></th>\n",
       "      <th></th>\n",
       "      <th></th>\n",
       "      <th></th>\n",
       "      <th></th>\n",
       "    </tr>\n",
       "  </thead>\n",
       "  <tbody>\n",
       "    <tr>\n",
       "      <th>Average/Fair</th>\n",
       "      <td>5</td>\n",
       "      <td>2</td>\n",
       "      <td>3</td>\n",
       "      <td>1</td>\n",
       "      <td>1</td>\n",
       "    </tr>\n",
       "    <tr>\n",
       "      <th>Excellent</th>\n",
       "      <td>4</td>\n",
       "      <td>83</td>\n",
       "      <td>39</td>\n",
       "      <td>2</td>\n",
       "      <td>0</td>\n",
       "    </tr>\n",
       "    <tr>\n",
       "      <th>Good</th>\n",
       "      <td>19</td>\n",
       "      <td>25</td>\n",
       "      <td>86</td>\n",
       "      <td>3</td>\n",
       "      <td>1</td>\n",
       "    </tr>\n",
       "    <tr>\n",
       "      <th>Poor</th>\n",
       "      <td>0</td>\n",
       "      <td>0</td>\n",
       "      <td>0</td>\n",
       "      <td>0</td>\n",
       "      <td>1</td>\n",
       "    </tr>\n",
       "    <tr>\n",
       "      <th>Very Poor</th>\n",
       "      <td>0</td>\n",
       "      <td>1</td>\n",
       "      <td>1</td>\n",
       "      <td>1</td>\n",
       "      <td>1</td>\n",
       "    </tr>\n",
       "  </tbody>\n",
       "</table>\n",
       "</div>"
      ],
      "text/plain": [
       "Parking       Average/Fair  Excellent  Good  Poor  Very Poor\n",
       "Overall                                                     \n",
       "Average/Fair             5          2     3     1          1\n",
       "Excellent                4         83    39     2          0\n",
       "Good                    19         25    86     3          1\n",
       "Poor                     0          0     0     0          1\n",
       "Very Poor                0          1     1     1          1"
      ]
     },
     "execution_count": 384,
     "metadata": {},
     "output_type": "execute_result"
    }
   ],
   "source": [
    "# overall satisfaction and parking relationship dataset\n",
    "\n",
    "s5_overall_parking= pd.crosstab(index=films_data.Overall, columns=films_data.Parking)\n",
    "s5_overall_parking"
   ]
  },
  {
   "cell_type": "code",
   "execution_count": 385,
   "id": "84027d4d",
   "metadata": {},
   "outputs": [
    {
     "data": {
      "text/plain": [
       "(176.28102966915446,\n",
       " 4.681095431170631e-29,\n",
       " 16,\n",
       " array([[1.20430108e+00, 4.77419355e+00, 5.54838710e+00, 3.01075269e-01,\n",
       "         1.72043011e-01],\n",
       "        [1.28458781e+01, 5.09247312e+01, 5.91827957e+01, 3.21146953e+00,\n",
       "         1.83512545e+00],\n",
       "        [1.34480287e+01, 5.33118280e+01, 6.19569892e+01, 3.36200717e+00,\n",
       "         1.92114695e+00],\n",
       "        [1.00358423e-01, 3.97849462e-01, 4.62365591e-01, 2.50896057e-02,\n",
       "         1.43369176e-02],\n",
       "        [4.01433692e-01, 1.59139785e+00, 1.84946237e+00, 1.00358423e-01,\n",
       "         5.73476703e-02]]))"
      ]
     },
     "execution_count": 385,
     "metadata": {},
     "output_type": "execute_result"
    }
   ],
   "source": [
    "# Perfoming the Chi square test to test the relationship of Overall satisfaction and parking.\n",
    "\n",
    "stats.chi2_contingency(s5_overall_parking)"
   ]
  },
  {
   "cell_type": "code",
   "execution_count": 386,
   "id": "153552b1",
   "metadata": {},
   "outputs": [
    {
     "data": {
      "text/plain": [
       "4.681095431170631e-29"
      ]
     },
     "execution_count": 386,
     "metadata": {},
     "output_type": "execute_result"
    }
   ],
   "source": [
    "# Finding the p value of the test\n",
    "\n",
    "p5op=stats.chi2_contingency(s5_overall_parking)[1]\n",
    "p5op"
   ]
  },
  {
   "cell_type": "code",
   "execution_count": 387,
   "id": "121e3bea",
   "metadata": {},
   "outputs": [
    {
     "name": "stdout",
     "output_type": "stream",
     "text": [
      "We reject null hypothesis\n"
     ]
    }
   ],
   "source": [
    "# Checking if p value is greater than or less than 0.05.\n",
    "\n",
    "if(p5op<0.05):\n",
    "    print('We reject null hypothesis')\n",
    "else:\n",
    "    print('We fail to reject null hypothesis')"
   ]
  },
  {
   "cell_type": "raw",
   "id": "e84e711d",
   "metadata": {},
   "source": [
    "Business conclusion: Parking satisfaction influences the overall satisfaction of the customer with a confidence of 95%. "
   ]
  },
  {
   "cell_type": "raw",
   "id": "06e36eaf",
   "metadata": {},
   "source": [
    "RELATIONSHIP BETWEEN OVERALL SATISFACTION AND CLEANLINESS.\n",
    "\n",
    "H0 - There is no relationship between overall satisfaction and cleanliness.\n",
    "Ha - There is a relationship between overall satisfaction and cleanliness.\n",
    "\n",
    "CI - 95%\n",
    "p - 0.05"
   ]
  },
  {
   "cell_type": "code",
   "execution_count": 388,
   "id": "ee9d213d",
   "metadata": {},
   "outputs": [
    {
     "data": {
      "text/html": [
       "<div>\n",
       "<style scoped>\n",
       "    .dataframe tbody tr th:only-of-type {\n",
       "        vertical-align: middle;\n",
       "    }\n",
       "\n",
       "    .dataframe tbody tr th {\n",
       "        vertical-align: top;\n",
       "    }\n",
       "\n",
       "    .dataframe thead th {\n",
       "        text-align: right;\n",
       "    }\n",
       "</style>\n",
       "<table border=\"1\" class=\"dataframe\">\n",
       "  <thead>\n",
       "    <tr style=\"text-align: right;\">\n",
       "      <th>Clean</th>\n",
       "      <th>Average/Fair</th>\n",
       "      <th>Excellent</th>\n",
       "      <th>Good</th>\n",
       "      <th>Poor</th>\n",
       "      <th>Very Poor</th>\n",
       "    </tr>\n",
       "    <tr>\n",
       "      <th>Overall</th>\n",
       "      <th></th>\n",
       "      <th></th>\n",
       "      <th></th>\n",
       "      <th></th>\n",
       "      <th></th>\n",
       "    </tr>\n",
       "  </thead>\n",
       "  <tbody>\n",
       "    <tr>\n",
       "      <th>Average/Fair</th>\n",
       "      <td>4</td>\n",
       "      <td>3</td>\n",
       "      <td>5</td>\n",
       "      <td>0</td>\n",
       "      <td>0</td>\n",
       "    </tr>\n",
       "    <tr>\n",
       "      <th>Excellent</th>\n",
       "      <td>5</td>\n",
       "      <td>82</td>\n",
       "      <td>39</td>\n",
       "      <td>1</td>\n",
       "      <td>1</td>\n",
       "    </tr>\n",
       "    <tr>\n",
       "      <th>Good</th>\n",
       "      <td>14</td>\n",
       "      <td>32</td>\n",
       "      <td>85</td>\n",
       "      <td>3</td>\n",
       "      <td>0</td>\n",
       "    </tr>\n",
       "    <tr>\n",
       "      <th>Poor</th>\n",
       "      <td>0</td>\n",
       "      <td>0</td>\n",
       "      <td>1</td>\n",
       "      <td>0</td>\n",
       "      <td>0</td>\n",
       "    </tr>\n",
       "    <tr>\n",
       "      <th>Very Poor</th>\n",
       "      <td>0</td>\n",
       "      <td>2</td>\n",
       "      <td>1</td>\n",
       "      <td>0</td>\n",
       "      <td>1</td>\n",
       "    </tr>\n",
       "  </tbody>\n",
       "</table>\n",
       "</div>"
      ],
      "text/plain": [
       "Clean         Average/Fair  Excellent  Good  Poor  Very Poor\n",
       "Overall                                                     \n",
       "Average/Fair             4          3     5     0          0\n",
       "Excellent                5         82    39     1          1\n",
       "Good                    14         32    85     3          0\n",
       "Poor                     0          0     1     0          0\n",
       "Very Poor                0          2     1     0          1"
      ]
     },
     "execution_count": 388,
     "metadata": {},
     "output_type": "execute_result"
    }
   ],
   "source": [
    "# overall satisfaction and cleanliness relationship dataset\n",
    "\n",
    "s5_overall_clean= pd.crosstab(index=films_data.Overall, columns=films_data.Clean)\n",
    "s5_overall_clean"
   ]
  },
  {
   "cell_type": "code",
   "execution_count": 389,
   "id": "facab7fa",
   "metadata": {},
   "outputs": [
    {
     "data": {
      "text/plain": [
       "(90.90124872405893,\n",
       " 1.7064467446101527e-12,\n",
       " 16,\n",
       " array([[9.89247312e-01, 5.11827957e+00, 5.63440860e+00, 1.72043011e-01,\n",
       "         8.60215054e-02],\n",
       "        [1.05519713e+01, 5.45949821e+01, 6.01003584e+01, 1.83512545e+00,\n",
       "         9.17562724e-01],\n",
       "        [1.10465950e+01, 5.71541219e+01, 6.29175627e+01, 1.92114695e+00,\n",
       "         9.60573477e-01],\n",
       "        [8.24372760e-02, 4.26523297e-01, 4.69534050e-01, 1.43369176e-02,\n",
       "         7.16845878e-03],\n",
       "        [3.29749104e-01, 1.70609319e+00, 1.87813620e+00, 5.73476703e-02,\n",
       "         2.86738351e-02]]))"
      ]
     },
     "execution_count": 389,
     "metadata": {},
     "output_type": "execute_result"
    }
   ],
   "source": [
    "# Perfoming the Chi square test to test the relationship of Overall satisfaction and parking.\n",
    "\n",
    "stats.chi2_contingency(s5_overall_clean)"
   ]
  },
  {
   "cell_type": "code",
   "execution_count": 390,
   "id": "f36e1950",
   "metadata": {},
   "outputs": [
    {
     "data": {
      "text/plain": [
       "1.7064467446101527e-12"
      ]
     },
     "execution_count": 390,
     "metadata": {},
     "output_type": "execute_result"
    }
   ],
   "source": [
    "# Finding the p value of the test\n",
    "\n",
    "p5oc=stats.chi2_contingency(s5_overall_clean)[1]\n",
    "p5oc"
   ]
  },
  {
   "cell_type": "code",
   "execution_count": 391,
   "id": "095a548c",
   "metadata": {},
   "outputs": [
    {
     "name": "stdout",
     "output_type": "stream",
     "text": [
      "We reject null hypothesis\n"
     ]
    }
   ],
   "source": [
    "# Checking if p value is greater than or less than 0.05.\n",
    "\n",
    "if(p5oc<0.05):\n",
    "    print('We reject null hypothesis')\n",
    "else:\n",
    "    print('We fail to reject null hypothesis')"
   ]
  },
  {
   "cell_type": "raw",
   "id": "dfa4a8ca",
   "metadata": {},
   "source": [
    "Business conclusion: Cleanliness influences the overall satisfaction of the customer with a confidence of 95%. "
   ]
  },
  {
   "cell_type": "raw",
   "id": "3af32e64",
   "metadata": {},
   "source": [
    "BUSINESS CONCLUSION: Based on the tests conducted above, overall satisfaction is impacted by all three factors which are sinage,\n",
    "parking and cleanliness. "
   ]
  },
  {
   "cell_type": "markdown",
   "id": "8da3d2a6",
   "metadata": {},
   "source": [
    "### 3. What is the demographic profile of Film on the Rocks patrons?"
   ]
  },
  {
   "cell_type": "code",
   "execution_count": 392,
   "id": "43eb2b83",
   "metadata": {
    "scrolled": true
   },
   "outputs": [
    {
     "data": {
      "text/html": [
       "<div>\n",
       "<style scoped>\n",
       "    .dataframe tbody tr th:only-of-type {\n",
       "        vertical-align: middle;\n",
       "    }\n",
       "\n",
       "    .dataframe tbody tr th {\n",
       "        vertical-align: top;\n",
       "    }\n",
       "\n",
       "    .dataframe thead th {\n",
       "        text-align: right;\n",
       "    }\n",
       "</style>\n",
       "<table border=\"1\" class=\"dataframe\">\n",
       "  <thead>\n",
       "    <tr style=\"text-align: right;\">\n",
       "      <th></th>\n",
       "      <th>_rowstate_</th>\n",
       "      <th>Movie</th>\n",
       "      <th>Gender</th>\n",
       "      <th>Marital_Status</th>\n",
       "      <th>Sinage</th>\n",
       "      <th>Parking</th>\n",
       "      <th>Clean</th>\n",
       "      <th>Overall</th>\n",
       "      <th>Age</th>\n",
       "      <th>Income</th>\n",
       "      <th>Hear_About</th>\n",
       "    </tr>\n",
       "  </thead>\n",
       "  <tbody>\n",
       "    <tr>\n",
       "      <th>0</th>\n",
       "      <td>0</td>\n",
       "      <td>Ferris Buellers Day Off</td>\n",
       "      <td>Female</td>\n",
       "      <td>Married</td>\n",
       "      <td>Good</td>\n",
       "      <td>Good</td>\n",
       "      <td>Good</td>\n",
       "      <td>Good</td>\n",
       "      <td>31-60</td>\n",
       "      <td>Less than $50,000</td>\n",
       "      <td>word of mouth</td>\n",
       "    </tr>\n",
       "    <tr>\n",
       "      <th>1</th>\n",
       "      <td>0</td>\n",
       "      <td>Ferris Buellers Day Off</td>\n",
       "      <td>Female</td>\n",
       "      <td>Single</td>\n",
       "      <td>Excellent</td>\n",
       "      <td>Excellent</td>\n",
       "      <td>Excellent</td>\n",
       "      <td>Excellent</td>\n",
       "      <td>13-30</td>\n",
       "      <td>Less than $50,000</td>\n",
       "      <td>word of mouth</td>\n",
       "    </tr>\n",
       "    <tr>\n",
       "      <th>2</th>\n",
       "      <td>0</td>\n",
       "      <td>Ferris Buellers Day Off</td>\n",
       "      <td>Male</td>\n",
       "      <td>Married</td>\n",
       "      <td>Good</td>\n",
       "      <td>Poor</td>\n",
       "      <td>Average/Fair</td>\n",
       "      <td>Good</td>\n",
       "      <td>60+</td>\n",
       "      <td>Less than $50,000</td>\n",
       "      <td>word of mouth</td>\n",
       "    </tr>\n",
       "    <tr>\n",
       "      <th>3</th>\n",
       "      <td>0</td>\n",
       "      <td>Ferris Buellers Day Off</td>\n",
       "      <td>Female</td>\n",
       "      <td>Married</td>\n",
       "      <td>Excellent</td>\n",
       "      <td>Average/Fair</td>\n",
       "      <td>Good</td>\n",
       "      <td>Good</td>\n",
       "      <td>60+</td>\n",
       "      <td>Less than $50,000</td>\n",
       "      <td>word of mouth</td>\n",
       "    </tr>\n",
       "    <tr>\n",
       "      <th>4</th>\n",
       "      <td>0</td>\n",
       "      <td>Ferris Buellers Day Off</td>\n",
       "      <td>Female</td>\n",
       "      <td>Married</td>\n",
       "      <td>Excellent</td>\n",
       "      <td>Excellent</td>\n",
       "      <td>Excellent</td>\n",
       "      <td>Excellent</td>\n",
       "      <td>31-60</td>\n",
       "      <td>$100,000+</td>\n",
       "      <td>television</td>\n",
       "    </tr>\n",
       "  </tbody>\n",
       "</table>\n",
       "</div>"
      ],
      "text/plain": [
       "   _rowstate_                    Movie  Gender Marital_Status     Sinage  \\\n",
       "0           0  Ferris Buellers Day Off  Female        Married       Good   \n",
       "1           0  Ferris Buellers Day Off  Female         Single  Excellent   \n",
       "2           0  Ferris Buellers Day Off    Male        Married       Good   \n",
       "3           0  Ferris Buellers Day Off  Female        Married  Excellent   \n",
       "4           0  Ferris Buellers Day Off  Female        Married  Excellent   \n",
       "\n",
       "        Parking         Clean    Overall    Age             Income  \\\n",
       "0          Good          Good       Good  31-60  Less than $50,000   \n",
       "1     Excellent     Excellent  Excellent  13-30  Less than $50,000   \n",
       "2          Poor  Average/Fair       Good    60+  Less than $50,000   \n",
       "3  Average/Fair          Good       Good    60+  Less than $50,000   \n",
       "4     Excellent     Excellent  Excellent  31-60          $100,000+   \n",
       "\n",
       "      Hear_About  \n",
       "0  word of mouth  \n",
       "1  word of mouth  \n",
       "2  word of mouth  \n",
       "3  word of mouth  \n",
       "4     television  "
      ]
     },
     "execution_count": 392,
     "metadata": {},
     "output_type": "execute_result"
    }
   ],
   "source": [
    "films_data.head()"
   ]
  },
  {
   "cell_type": "markdown",
   "id": "9f0784ac",
   "metadata": {},
   "source": [
    "### Age groups"
   ]
  },
  {
   "cell_type": "code",
   "execution_count": 393,
   "id": "a14bc984",
   "metadata": {},
   "outputs": [
    {
     "data": {
      "text/plain": [
       "<AxesSubplot:title={'center':'Age'}, ylabel='percentage'>"
      ]
     },
     "execution_count": 393,
     "metadata": {},
     "output_type": "execute_result"
    },
    {
     "data": {
      "image/png": "[encoded data removed]",
      "text/plain": [
       "<Figure size 432x288 with 1 Axes>"
      ]
     },
     "metadata": {},
     "output_type": "display_data"
    }
   ],
   "source": [
    "films_data.groupby('Age')['Movie'].count().plot(kind='pie',autopct='%1.1f%%', title='Age', ylabel='percentage')"
   ]
  },
  {
   "cell_type": "markdown",
   "id": "408c7fab",
   "metadata": {},
   "source": [
    "### Gender"
   ]
  },
  {
   "cell_type": "code",
   "execution_count": 394,
   "id": "3db7aa80",
   "metadata": {},
   "outputs": [
    {
     "data": {
      "text/plain": [
       "<AxesSubplot:title={'center':'Gender'}, ylabel='percentage'>"
      ]
     },
     "execution_count": 394,
     "metadata": {},
     "output_type": "execute_result"
    },
    {
     "data": {
      "image/png": "[encoded data removed]",
      "text/plain": [
       "<Figure size 432x288 with 1 Axes>"
      ]
     },
     "metadata": {},
     "output_type": "display_data"
    }
   ],
   "source": [
    "films_data.groupby('Gender')['Movie'].count().plot(kind='pie',autopct='%1.1f%%', title='Gender', ylabel='percentage')"
   ]
  },
  {
   "cell_type": "markdown",
   "id": "920636e0",
   "metadata": {},
   "source": [
    "### Martial Status"
   ]
  },
  {
   "cell_type": "code",
   "execution_count": 395,
   "id": "1c9eeb70",
   "metadata": {},
   "outputs": [
    {
     "data": {
      "text/plain": [
       "<AxesSubplot:title={'center':'Marital Status'}, ylabel='percentage'>"
      ]
     },
     "execution_count": 395,
     "metadata": {},
     "output_type": "execute_result"
    },
    {
     "data": {
      "image/png": "[encoded data removed]",
      "text/plain": [
       "<Figure size 432x288 with 1 Axes>"
      ]
     },
     "metadata": {},
     "output_type": "display_data"
    }
   ],
   "source": [
    "films_data.groupby('Marital_Status')['Movie'].count().plot(kind='pie',autopct='%1.1f%%', title='Marital Status',   ylabel='percentage')"
   ]
  },
  {
   "cell_type": "markdown",
   "id": "cb5f696c",
   "metadata": {},
   "source": [
    "### Income"
   ]
  },
  {
   "cell_type": "code",
   "execution_count": 396,
   "id": "84d9b5c7",
   "metadata": {},
   "outputs": [
    {
     "data": {
      "text/plain": [
       "<AxesSubplot:title={'center':'Income'}, ylabel='percentage'>"
      ]
     },
     "execution_count": 396,
     "metadata": {},
     "output_type": "execute_result"
    },
    {
     "data": {
      "image/png": "[encoded data removed]",
      "text/plain": [
       "<Figure size 432x288 with 1 Axes>"
      ]
     },
     "metadata": {},
     "output_type": "display_data"
    }
   ],
   "source": [
    "films_data.groupby('Income')['Movie'].count().plot(kind='pie',autopct='%1.1f%%', title='Income',  ylabel='percentage')"
   ]
  },
  {
   "cell_type": "markdown",
   "id": "737a94b9",
   "metadata": {},
   "source": [
    "### Demographic summary\n",
    "\n",
    "##### 1. 51.6% of the patrons belong to the age group of 13-30.\n",
    "##### 2. 63.1% of the patrons are females.\n",
    "##### 3. 68.5% of the patrons are of single.\n",
    "##### 4. 46.2% of the patrons have income less than $50,000."
   ]
  },
  {
   "cell_type": "markdown",
   "id": "469c4487",
   "metadata": {},
   "source": [
    "### 4. In what media outlet(s) should the film series be advertised?"
   ]
  },
  {
   "cell_type": "code",
   "execution_count": 397,
   "id": "2e2bf2d6",
   "metadata": {},
   "outputs": [
    {
     "data": {
      "text/plain": [
       "<AxesSubplot:>"
      ]
     },
     "execution_count": 397,
     "metadata": {},
     "output_type": "execute_result"
    },
    {
     "data": {
      "image/png": "[encoded data removed]",
      "text/plain": [
       "<Figure size 432x288 with 1 Axes>"
      ]
     },
     "metadata": {
      "needs_background": "light"
     },
     "output_type": "display_data"
    }
   ],
   "source": [
    "films_data.Hear_About.value_counts().plot(kind='bar')"
   ]
  },
  {
   "cell_type": "markdown",
   "id": "192a856e",
   "metadata": {},
   "source": [
    "##### As we can see that mainly people hear about Film on the Rocks using word of mouth, so for advertising the next majority comes from webite. Therefore Film on the Rocks series should be advertised on website. "
   ]
  }
 ],
 "metadata": {
  "kernelspec": {
   "display_name": "Python 3 (ipykernel)",
   "language": "python",
   "name": "python3"
  },
  "language_info": {
   "codemirror_mode": {
    "name": "ipython",
    "version": 3
   },
   "file_extension": ".py",
   "mimetype": "text/x-python",
   "name": "python",
   "nbconvert_exporter": "python",
   "pygments_lexer": "ipython3",
   "version": "3.9.7"
  }
 },
 "nbformat": 4,
 "nbformat_minor": 5
}
